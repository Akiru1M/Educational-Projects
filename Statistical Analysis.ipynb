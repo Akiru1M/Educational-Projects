{
 "cells": [
  {
   "cell_type": "markdown",
   "id": "78e35448",
   "metadata": {},
   "source": [
    "# Описание:  \n",
    "Анализ данных компании по аренде самокатов GoFast и проверка некоторых гипотез которые могут помочь в бизнесе "
   ]
  },
  {
   "cell_type": "markdown",
   "id": "4a121bba",
   "metadata": {},
   "source": [
    "```\n",
    "--Шаг 1. Загрузка данных\n",
    "    -1.1 Считайте CSV-файлы с данными с помощью библиотеки pandas и сохраните их в датафреймы. Пути к файлам:\n",
    "        /datasets/users_go.csv\n",
    "        /datasets/rides_go.csv\n",
    "        /datasets/subscriptions_go.csv\n",
    "    -1.2 Выведите первые строки каждого набора данных. Изучите общую информацию о каждом датафрейме.\n",
    "--Шаг 2. Предобработка данных\n",
    "    -2.1 Приведите столбец date к типу даты pandas.\n",
    "    -2.2 Создайте новый столбец с номером месяца на основе столбца date.\n",
    "    -2.3 Проверьте наличие пропущенных значений и дубликатов в датафреймах. Обработайте их, если такие значения присутствуют.\n",
    "--Шаг 3. Исследовательский анализ данных\n",
    "Опишите и визуализируйте общую информацию о пользователях и поездках:\n",
    "    -3.1 частота встречаемости городов;\n",
    "    -3.2 соотношение пользователей с подпиской и без подписки;\n",
    "    -3.3 возраст пользователей;\n",
    "    -3.4 расстояние, которое пользователь преодолел за одну поездку;\n",
    "    -3.5 продолжительность поездок.\n",
    "--Шаг 4. Объединение данных\n",
    "    -4.1 Объедините данные о пользователях, поездках и подписках в один датафрейм. Для этого воспользуйтесь методом merge().\n",
    "    -4.2 Создайте ещё два датафрейма из датафрейма, созданного на этапе 4.1:\n",
    "        c данными о пользователях без подписки;\n",
    "        с данными о пользователях с подпиской.\n",
    "    -4.3 Визуализируйте информацию о расстоянии и времени поездок для пользователей обеих категорий.\n",
    "--Шаг 5. Подсчёт выручки\n",
    "    -5.1 Создайте датафрейм с агрегированными данными о поездках на основе датафрейма с объединёнными данными из шага 4: найдите суммарное расстояние,          количество поездок и суммарное время для каждого пользователя за каждый месяц.\n",
    "    -5.2 В этот же датафрейм добавьте столбец с помесячной выручкой, которую принёс каждый пользователь. Для этого обратитесь к информации об условиях      оплаты для подписчиков и тех, у кого нет подписки. Продолжительность каждой поездки в каждой строке исходного датафрейма для подсчёта стоимости         округляется до следующего целого числа\n",
    "--Шаг 6. Проверка гипотез\n",
    "Продакт-менеджеры сервиса хотят увеличить количество пользователей с подпиской. Для этого они будут проводить различные акции, но сначала нужно выяснить несколько важных моментов.\n",
    "    -6.1 Важно понять, тратят ли пользователи с подпиской больше времени на поездки? Если да, то пользователи с подпиской могут быть «выгоднее» для          компании. Проверьте гипотезу. Используйте исходные данные о продолжительности каждой сессии — отдельно для подписчиков и тех, у кого нет подписки.\n",
    "    -6.2 Расстояние одной поездки в \n",
    "        3130\n",
    "        3130 метров — оптимальное с точки зрения износа самоката. Можно ли сказать, что среднее расстояние, которое проезжают пользователи с подпиской          за одну поездку, не превышает 3130 метров? \n",
    "    -6.3 Проверьте гипотезу о том, будет ли помесячная выручка от пользователей с подпиской по месяцам выше, чем выручка от пользователей без подписки. \n",
    "    -6.4 Представьте такую ситуацию: техническая команда сервиса обновила сервера, с которыми взаимодействует мобильное приложение. Она надеется, что           из-за этого количество обращений в техподдержку значимо снизилось. Некоторый файл содержит для каждого пользователя данные о количестве                 обращений до обновления и после него. Какой тест вам понадобился бы для проверки этой гипотезы?\n",
    "```"
   ]
  },
  {
   "cell_type": "code",
   "execution_count": 1,
   "id": "72576667",
   "metadata": {},
   "outputs": [],
   "source": [
    "import pandas as pd\n",
    "import matplotlib.pyplot as plt\n",
    "import math\n",
    "from scipy import stats as st\n",
    "import numpy as np"
   ]
  },
  {
   "cell_type": "markdown",
   "id": "c42cbe00",
   "metadata": {},
   "source": [
    "## Загрузка данных"
   ]
  },
  {
   "cell_type": "code",
   "execution_count": 2,
   "id": "eff9f206",
   "metadata": {},
   "outputs": [],
   "source": [
    "df_users = pd.read_csv('/datasets/users_go.csv')\n",
    "df_rides = pd.read_csv('/datasets/rides_go.csv')\n",
    "df_subscriptions = pd.read_csv('/datasets/subscriptions_go.csv')"
   ]
  },
  {
   "cell_type": "code",
   "execution_count": 3,
   "id": "b1af8f62",
   "metadata": {},
   "outputs": [
    {
     "data": {
      "text/html": [
       "<div>\n",
       "<style scoped>\n",
       "    .dataframe tbody tr th:only-of-type {\n",
       "        vertical-align: middle;\n",
       "    }\n",
       "\n",
       "    .dataframe tbody tr th {\n",
       "        vertical-align: top;\n",
       "    }\n",
       "\n",
       "    .dataframe thead th {\n",
       "        text-align: right;\n",
       "    }\n",
       "</style>\n",
       "<table border=\"1\" class=\"dataframe\">\n",
       "  <thead>\n",
       "    <tr style=\"text-align: right;\">\n",
       "      <th></th>\n",
       "      <th>user_id</th>\n",
       "      <th>name</th>\n",
       "      <th>age</th>\n",
       "      <th>city</th>\n",
       "      <th>subscription_type</th>\n",
       "    </tr>\n",
       "  </thead>\n",
       "  <tbody>\n",
       "    <tr>\n",
       "      <th>0</th>\n",
       "      <td>1</td>\n",
       "      <td>Кира</td>\n",
       "      <td>22</td>\n",
       "      <td>Тюмень</td>\n",
       "      <td>ultra</td>\n",
       "    </tr>\n",
       "    <tr>\n",
       "      <th>1</th>\n",
       "      <td>2</td>\n",
       "      <td>Станислав</td>\n",
       "      <td>31</td>\n",
       "      <td>Омск</td>\n",
       "      <td>ultra</td>\n",
       "    </tr>\n",
       "    <tr>\n",
       "      <th>2</th>\n",
       "      <td>3</td>\n",
       "      <td>Алексей</td>\n",
       "      <td>20</td>\n",
       "      <td>Москва</td>\n",
       "      <td>ultra</td>\n",
       "    </tr>\n",
       "    <tr>\n",
       "      <th>3</th>\n",
       "      <td>4</td>\n",
       "      <td>Константин</td>\n",
       "      <td>26</td>\n",
       "      <td>Ростов-на-Дону</td>\n",
       "      <td>ultra</td>\n",
       "    </tr>\n",
       "    <tr>\n",
       "      <th>4</th>\n",
       "      <td>5</td>\n",
       "      <td>Адель</td>\n",
       "      <td>28</td>\n",
       "      <td>Омск</td>\n",
       "      <td>ultra</td>\n",
       "    </tr>\n",
       "  </tbody>\n",
       "</table>\n",
       "</div>"
      ],
      "text/plain": [
       "   user_id        name  age            city subscription_type\n",
       "0        1        Кира   22          Тюмень             ultra\n",
       "1        2   Станислав   31            Омск             ultra\n",
       "2        3     Алексей   20          Москва             ultra\n",
       "3        4  Константин   26  Ростов-на-Дону             ultra\n",
       "4        5       Адель   28            Омск             ultra"
      ]
     },
     "execution_count": 3,
     "metadata": {},
     "output_type": "execute_result"
    }
   ],
   "source": [
    "df_users.head(5)"
   ]
  },
  {
   "cell_type": "code",
   "execution_count": 4,
   "id": "fbca4a58",
   "metadata": {},
   "outputs": [
    {
     "data": {
      "text/html": [
       "<div>\n",
       "<style scoped>\n",
       "    .dataframe tbody tr th:only-of-type {\n",
       "        vertical-align: middle;\n",
       "    }\n",
       "\n",
       "    .dataframe tbody tr th {\n",
       "        vertical-align: top;\n",
       "    }\n",
       "\n",
       "    .dataframe thead th {\n",
       "        text-align: right;\n",
       "    }\n",
       "</style>\n",
       "<table border=\"1\" class=\"dataframe\">\n",
       "  <thead>\n",
       "    <tr style=\"text-align: right;\">\n",
       "      <th></th>\n",
       "      <th>user_id</th>\n",
       "      <th>distance</th>\n",
       "      <th>duration</th>\n",
       "      <th>date</th>\n",
       "    </tr>\n",
       "  </thead>\n",
       "  <tbody>\n",
       "    <tr>\n",
       "      <th>0</th>\n",
       "      <td>1</td>\n",
       "      <td>4409.919140</td>\n",
       "      <td>25.599769</td>\n",
       "      <td>2021-01-01</td>\n",
       "    </tr>\n",
       "    <tr>\n",
       "      <th>1</th>\n",
       "      <td>1</td>\n",
       "      <td>2617.592153</td>\n",
       "      <td>15.816871</td>\n",
       "      <td>2021-01-18</td>\n",
       "    </tr>\n",
       "    <tr>\n",
       "      <th>2</th>\n",
       "      <td>1</td>\n",
       "      <td>754.159807</td>\n",
       "      <td>6.232113</td>\n",
       "      <td>2021-04-20</td>\n",
       "    </tr>\n",
       "    <tr>\n",
       "      <th>3</th>\n",
       "      <td>1</td>\n",
       "      <td>2694.783254</td>\n",
       "      <td>18.511000</td>\n",
       "      <td>2021-08-11</td>\n",
       "    </tr>\n",
       "    <tr>\n",
       "      <th>4</th>\n",
       "      <td>1</td>\n",
       "      <td>4028.687306</td>\n",
       "      <td>26.265803</td>\n",
       "      <td>2021-08-28</td>\n",
       "    </tr>\n",
       "  </tbody>\n",
       "</table>\n",
       "</div>"
      ],
      "text/plain": [
       "   user_id     distance   duration        date\n",
       "0        1  4409.919140  25.599769  2021-01-01\n",
       "1        1  2617.592153  15.816871  2021-01-18\n",
       "2        1   754.159807   6.232113  2021-04-20\n",
       "3        1  2694.783254  18.511000  2021-08-11\n",
       "4        1  4028.687306  26.265803  2021-08-28"
      ]
     },
     "execution_count": 4,
     "metadata": {},
     "output_type": "execute_result"
    }
   ],
   "source": [
    "df_rides.head(5)"
   ]
  },
  {
   "cell_type": "code",
   "execution_count": 5,
   "id": "285ab909",
   "metadata": {},
   "outputs": [
    {
     "data": {
      "text/html": [
       "<div>\n",
       "<style scoped>\n",
       "    .dataframe tbody tr th:only-of-type {\n",
       "        vertical-align: middle;\n",
       "    }\n",
       "\n",
       "    .dataframe tbody tr th {\n",
       "        vertical-align: top;\n",
       "    }\n",
       "\n",
       "    .dataframe thead th {\n",
       "        text-align: right;\n",
       "    }\n",
       "</style>\n",
       "<table border=\"1\" class=\"dataframe\">\n",
       "  <thead>\n",
       "    <tr style=\"text-align: right;\">\n",
       "      <th></th>\n",
       "      <th>subscription_type</th>\n",
       "      <th>minute_price</th>\n",
       "      <th>start_ride_price</th>\n",
       "      <th>subscription_fee</th>\n",
       "    </tr>\n",
       "  </thead>\n",
       "  <tbody>\n",
       "    <tr>\n",
       "      <th>0</th>\n",
       "      <td>free</td>\n",
       "      <td>8</td>\n",
       "      <td>50</td>\n",
       "      <td>0</td>\n",
       "    </tr>\n",
       "    <tr>\n",
       "      <th>1</th>\n",
       "      <td>ultra</td>\n",
       "      <td>6</td>\n",
       "      <td>0</td>\n",
       "      <td>199</td>\n",
       "    </tr>\n",
       "  </tbody>\n",
       "</table>\n",
       "</div>"
      ],
      "text/plain": [
       "  subscription_type  minute_price  start_ride_price  subscription_fee\n",
       "0              free             8                50                 0\n",
       "1             ultra             6                 0               199"
      ]
     },
     "execution_count": 5,
     "metadata": {},
     "output_type": "execute_result"
    }
   ],
   "source": [
    "df_subscriptions"
   ]
  },
  {
   "cell_type": "markdown",
   "id": "e95ebca7",
   "metadata": {},
   "source": [
    "## Предобработка данных"
   ]
  },
  {
   "cell_type": "code",
   "execution_count": 6,
   "id": "af6d202c",
   "metadata": {},
   "outputs": [],
   "source": [
    "df_rides['date'] = pd.to_datetime(df_rides['date'], format='%Y-%m-%d')\n",
    "df_rides['month'] = df_rides['date'].dt.month"
   ]
  },
  {
   "cell_type": "code",
   "execution_count": 7,
   "id": "6c9cfaa2",
   "metadata": {},
   "outputs": [
    {
     "name": "stdout",
     "output_type": "stream",
     "text": [
      "<class 'pandas.core.frame.DataFrame'>\n",
      "RangeIndex: 1565 entries, 0 to 1564\n",
      "Data columns (total 5 columns):\n",
      " #   Column             Non-Null Count  Dtype \n",
      "---  ------             --------------  ----- \n",
      " 0   user_id            1565 non-null   int64 \n",
      " 1   name               1565 non-null   object\n",
      " 2   age                1565 non-null   int64 \n",
      " 3   city               1565 non-null   object\n",
      " 4   subscription_type  1565 non-null   object\n",
      "dtypes: int64(2), object(3)\n",
      "memory usage: 61.3+ KB\n",
      "количесвто дубликатов:  31\n",
      "<class 'pandas.core.frame.DataFrame'>\n",
      "RangeIndex: 1534 entries, 0 to 1533\n",
      "Data columns (total 5 columns):\n",
      " #   Column             Non-Null Count  Dtype \n",
      "---  ------             --------------  ----- \n",
      " 0   user_id            1534 non-null   int64 \n",
      " 1   name               1534 non-null   object\n",
      " 2   age                1534 non-null   int64 \n",
      " 3   city               1534 non-null   object\n",
      " 4   subscription_type  1534 non-null   object\n",
      "dtypes: int64(2), object(3)\n",
      "memory usage: 60.0+ KB\n",
      "количесвто дубликатов и info после команды:  0 None\n",
      "['Тюмень' 'Омск' 'Москва' 'Ростов-на-Дону' 'Краснодар' 'Пятигорск'\n",
      " 'Екатеринбург' 'Сочи']\n"
     ]
    }
   ],
   "source": [
    "df_users.info()\n",
    "print('количесвто дубликатов: ', df_users['user_id'].duplicated().sum())\n",
    "df_users = df_users.drop_duplicates(subset='user_id', keep='first').reset_index(drop=True)\n",
    "print('количесвто дубликатов и info после команды: ', df_users['user_id'].duplicated().sum(), df_users.info())\n",
    "print(df_users['city'].unique())"
   ]
  },
  {
   "cell_type": "markdown",
   "id": "8dec610f",
   "metadata": {},
   "source": [
    "Пропуски не обноружел, поиск дубликатов провел только в столбце User_id и ручной поиск в городах так как данные в остальных столбцах могли повторятся (имя, подписка, возвраст)"
   ]
  },
  {
   "cell_type": "code",
   "execution_count": 8,
   "id": "499c4d30",
   "metadata": {},
   "outputs": [
    {
     "name": "stdout",
     "output_type": "stream",
     "text": [
      "<class 'pandas.core.frame.DataFrame'>\n",
      "RangeIndex: 18068 entries, 0 to 18067\n",
      "Data columns (total 5 columns):\n",
      " #   Column    Non-Null Count  Dtype         \n",
      "---  ------    --------------  -----         \n",
      " 0   user_id   18068 non-null  int64         \n",
      " 1   distance  18068 non-null  float64       \n",
      " 2   duration  18068 non-null  float64       \n",
      " 3   date      18068 non-null  datetime64[ns]\n",
      " 4   month     18068 non-null  int64         \n",
      "dtypes: datetime64[ns](1), float64(2), int64(2)\n",
      "memory usage: 705.9 KB\n",
      "количесвто дубликатов:  0\n"
     ]
    }
   ],
   "source": [
    "df_rides.info()\n",
    "print('количесвто дубликатов: ', df_rides.duplicated().sum())"
   ]
  },
  {
   "cell_type": "markdown",
   "id": "9af30293",
   "metadata": {},
   "source": [
    "пропусков и дубликатов нет(огромное спасибо яндекс)"
   ]
  },
  {
   "cell_type": "markdown",
   "id": "212593c7",
   "metadata": {},
   "source": [
    "#### Шаг 3. Исследовательский анализ данных"
   ]
  },
  {
   "cell_type": "markdown",
   "id": "120e2d6f",
   "metadata": {},
   "source": [
    "<h3><b>Частота встречаемости городов</b></h3>"
   ]
  },
  {
   "cell_type": "code",
   "execution_count": 9,
   "id": "50635f57",
   "metadata": {
    "scrolled": true
   },
   "outputs": [
    {
     "data": {
      "image/png": "[encoded data removed]",
      "text/plain": [
       "<Figure size 720x720 with 1 Axes>"
      ]
     },
     "metadata": {
      "needs_background": "light"
     },
     "output_type": "display_data"
    },
    {
     "data": {
      "text/html": [
       "<div>\n",
       "<style scoped>\n",
       "    .dataframe tbody tr th:only-of-type {\n",
       "        vertical-align: middle;\n",
       "    }\n",
       "\n",
       "    .dataframe tbody tr th {\n",
       "        vertical-align: top;\n",
       "    }\n",
       "\n",
       "    .dataframe thead th {\n",
       "        text-align: right;\n",
       "    }\n",
       "</style>\n",
       "<table border=\"1\" class=\"dataframe\">\n",
       "  <thead>\n",
       "    <tr style=\"text-align: right;\">\n",
       "      <th></th>\n",
       "      <th>user_id</th>\n",
       "    </tr>\n",
       "    <tr>\n",
       "      <th>city</th>\n",
       "      <th></th>\n",
       "    </tr>\n",
       "  </thead>\n",
       "  <tbody>\n",
       "    <tr>\n",
       "      <th>Екатеринбург</th>\n",
       "      <td>204</td>\n",
       "    </tr>\n",
       "    <tr>\n",
       "      <th>Краснодар</th>\n",
       "      <td>193</td>\n",
       "    </tr>\n",
       "    <tr>\n",
       "      <th>Москва</th>\n",
       "      <td>168</td>\n",
       "    </tr>\n",
       "    <tr>\n",
       "      <th>Омск</th>\n",
       "      <td>183</td>\n",
       "    </tr>\n",
       "    <tr>\n",
       "      <th>Пятигорск</th>\n",
       "      <td>219</td>\n",
       "    </tr>\n",
       "    <tr>\n",
       "      <th>Ростов-на-Дону</th>\n",
       "      <td>198</td>\n",
       "    </tr>\n",
       "    <tr>\n",
       "      <th>Сочи</th>\n",
       "      <td>189</td>\n",
       "    </tr>\n",
       "    <tr>\n",
       "      <th>Тюмень</th>\n",
       "      <td>180</td>\n",
       "    </tr>\n",
       "  </tbody>\n",
       "</table>\n",
       "</div>"
      ],
      "text/plain": [
       "                user_id\n",
       "city                   \n",
       "Екатеринбург        204\n",
       "Краснодар           193\n",
       "Москва              168\n",
       "Омск                183\n",
       "Пятигорск           219\n",
       "Ростов-на-Дону      198\n",
       "Сочи                189\n",
       "Тюмень              180"
      ]
     },
     "execution_count": 9,
     "metadata": {},
     "output_type": "execute_result"
    }
   ],
   "source": [
    "plt.title('Частота встречаемости городов')\n",
    "df_users['city'].hist(grid=True, figsize=(10,10), bins=20)\n",
    "plt.xlabel('Город')\n",
    "plt.ylabel('Количестов пользователей с этого города')\n",
    "plt.show()\n",
    "df_users.pivot_table(index='city', values='user_id', aggfunc='count')"
   ]
  },
  {
   "cell_type": "markdown",
   "id": "557e8d91",
   "metadata": {},
   "source": [
    "встречаемость высше всего в пятегорске около 260, на втором месте по встречаемости 4 города Ростов, Краснодар, Екатеренбург, Сочи. Самый редкий город - Москва"
   ]
  },
  {
   "cell_type": "markdown",
   "id": "86509ce2",
   "metadata": {},
   "source": [
    "### соотношение пользователей с подпиской и без подписк"
   ]
  },
  {
   "cell_type": "code",
   "execution_count": 10,
   "id": "58d64836",
   "metadata": {},
   "outputs": [
    {
     "name": "stdout",
     "output_type": "stream",
     "text": [
      "проценть пользователей с подпиской 45.56714471968709\n",
      "проценть пользователей без подписки 54.43285528031291\n"
     ]
    },
    {
     "data": {
      "image/png": "[encoded data removed]",
      "text/plain": [
       "<Figure size 360x360 with 1 Axes>"
      ]
     },
     "metadata": {
      "needs_background": "light"
     },
     "output_type": "display_data"
    }
   ],
   "source": [
    "df_users['subscription_type'].hist(grid=True, figsize=(5,5), bins=10)\n",
    "plt.xlabel('тип подписки')\n",
    "plt.ylabel('количестов пользователей с этой подпиской')\n",
    "print(f'проценть пользователей с подпиской', df_users.query('subscription_type==\"ultra\"')['user_id'].count() / df_users['user_id'].count() * 100)\n",
    "print(f'проценть пользователей без подписки', df_users.query('subscription_type==\"free\"')['user_id'].count() / df_users['user_id'].count() * 100)"
   ]
  },
  {
   "cell_type": "markdown",
   "id": "30435dde",
   "metadata": {},
   "source": [
    "пользовотелей с платной подпиской меньше но не значительно, примерно на 150"
   ]
  },
  {
   "cell_type": "markdown",
   "id": "35fc0561",
   "metadata": {},
   "source": [
    "<h3><b>возраст пользователей</b></h3>"
   ]
  },
  {
   "cell_type": "code",
   "execution_count": 11,
   "id": "1bbd19b0",
   "metadata": {
    "scrolled": true
   },
   "outputs": [
    {
     "data": {
      "image/png": "[encoded data removed]",
      "text/plain": [
       "<Figure size 360x360 with 1 Axes>"
      ]
     },
     "metadata": {
      "needs_background": "light"
     },
     "output_type": "display_data"
    }
   ],
   "source": [
    "plt.title('распределение возраста пользователей')\n",
    "df_users['age'].hist(grid=True, figsize=(5,5), bins=30)\n",
    "plt.xlabel('возраст пользователей')\n",
    "plt.ylabel('количесто пользователей этих возрастов')\n",
    "plt.show()"
   ]
  },
  {
   "cell_type": "markdown",
   "id": "6ab92e40",
   "metadata": {},
   "source": [
    "в основном услугой пользуются люди 25 лет до и после 25 лет людей становится меньше и меньше"
   ]
  },
  {
   "cell_type": "markdown",
   "id": "632f8011",
   "metadata": {},
   "source": [
    "<p><h3><b>расстояние, которое пользователь преодолел за одну поездку</b></h3></p>"
   ]
  },
  {
   "cell_type": "code",
   "execution_count": 12,
   "id": "f8681761",
   "metadata": {},
   "outputs": [
    {
     "data": {
      "image/png": "[encoded data removed]",
      "text/plain": [
       "<Figure size 432x288 with 1 Axes>"
      ]
     },
     "metadata": {
      "needs_background": "light"
     },
     "output_type": "display_data"
    }
   ],
   "source": [
    "plt.title('распределение расстояния, которое пользователь преодолел за одну поездку')\n",
    "df_rides.query('500<distance')['distance'].hist(bins=150)\n",
    "plt.xlabel('расстояние')\n",
    "plt.ylabel('количество поездок')\n",
    "plt.show()"
   ]
  },
  {
   "cell_type": "markdown",
   "id": "d54b6262",
   "metadata": {},
   "source": [
    "В анализ я взял поездки от 500 метров так как я считаю что это оптимальное растояние для которого следует брать самокат.\n",
    "В среднем на самокате проезжают 3300 метров чем дальше от этого значения тем меньше было таких поездок  "
   ]
  },
  {
   "cell_type": "markdown",
   "id": "cda41528",
   "metadata": {},
   "source": [
    "<p><h3><b> продолжительность поездок</b></h3></p>"
   ]
  },
  {
   "cell_type": "code",
   "execution_count": 13,
   "id": "e451b33a",
   "metadata": {
    "scrolled": true
   },
   "outputs": [
    {
     "data": {
      "image/png": "[encoded data removed]",
      "text/plain": [
       "<Figure size 432x288 with 1 Axes>"
      ]
     },
     "metadata": {
      "needs_background": "light"
     },
     "output_type": "display_data"
    }
   ],
   "source": [
    "plt.title('распределение продолжительности поездок')\n",
    "df_rides.query('5<duration')['duration'].hist(bins=75)\n",
    "plt.xlabel('продолжительность поездок')\n",
    "plt.ylabel('количество поездок')\n",
    "plt.show()"
   ]
  },
  {
   "cell_type": "markdown",
   "id": "9fee2850",
   "metadata": {},
   "source": [
    "Давольно популярны поездки по 16-17 очень редко встречаются по 40 и от 5-15 минут идет подьем количества поездок. в анализ брал поездки от 5 минут."
   ]
  },
  {
   "cell_type": "markdown",
   "id": "4ef51331",
   "metadata": {},
   "source": [
    "## Объединение данных"
   ]
  },
  {
   "cell_type": "code",
   "execution_count": 14,
   "id": "6bf288b5",
   "metadata": {},
   "outputs": [
    {
     "name": "stdout",
     "output_type": "stream",
     "text": [
      "18068\n",
      "18068\n",
      "<class 'pandas.core.frame.DataFrame'>\n",
      "Int64Index: 18068 entries, 0 to 18067\n",
      "Data columns (total 12 columns):\n",
      " #   Column             Non-Null Count  Dtype         \n",
      "---  ------             --------------  -----         \n",
      " 0   user_id            18068 non-null  int64         \n",
      " 1   name               18068 non-null  object        \n",
      " 2   age                18068 non-null  int64         \n",
      " 3   city               18068 non-null  object        \n",
      " 4   subscription_type  18068 non-null  object        \n",
      " 5   distance           18068 non-null  float64       \n",
      " 6   duration           18068 non-null  float64       \n",
      " 7   date               18068 non-null  datetime64[ns]\n",
      " 8   month              18068 non-null  int64         \n",
      " 9   minute_price       18068 non-null  int64         \n",
      " 10  start_ride_price   18068 non-null  int64         \n",
      " 11  subscription_fee   18068 non-null  int64         \n",
      "dtypes: datetime64[ns](1), float64(2), int64(6), object(3)\n",
      "memory usage: 1.8+ MB\n",
      "None\n"
     ]
    }
   ],
   "source": [
    "df = df_users.merge(df_rides, on='user_id')\n",
    "df = df.merge(df_subscriptions, on='subscription_type')\n",
    "print(df_rides['user_id'].count())\n",
    "print(df['user_id'].count())\n",
    "print(df.info())"
   ]
  },
  {
   "cell_type": "markdown",
   "id": "1032cf25",
   "metadata": {},
   "source": [
    "длина таблиц совпадает все прошло коректно, пропусков нет"
   ]
  },
  {
   "cell_type": "code",
   "execution_count": 15,
   "id": "52db29f1",
   "metadata": {
    "scrolled": true
   },
   "outputs": [
    {
     "data": {
      "text/html": [
       "<div>\n",
       "<style scoped>\n",
       "    .dataframe tbody tr th:only-of-type {\n",
       "        vertical-align: middle;\n",
       "    }\n",
       "\n",
       "    .dataframe tbody tr th {\n",
       "        vertical-align: top;\n",
       "    }\n",
       "\n",
       "    .dataframe thead th {\n",
       "        text-align: right;\n",
       "    }\n",
       "</style>\n",
       "<table border=\"1\" class=\"dataframe\">\n",
       "  <thead>\n",
       "    <tr style=\"text-align: right;\">\n",
       "      <th></th>\n",
       "      <th>user_id</th>\n",
       "      <th>name</th>\n",
       "      <th>age</th>\n",
       "      <th>city</th>\n",
       "      <th>subscription_type</th>\n",
       "      <th>distance</th>\n",
       "      <th>duration</th>\n",
       "      <th>date</th>\n",
       "      <th>month</th>\n",
       "      <th>minute_price</th>\n",
       "      <th>start_ride_price</th>\n",
       "      <th>subscription_fee</th>\n",
       "    </tr>\n",
       "  </thead>\n",
       "  <tbody>\n",
       "    <tr>\n",
       "      <th>0</th>\n",
       "      <td>1</td>\n",
       "      <td>Кира</td>\n",
       "      <td>22</td>\n",
       "      <td>Тюмень</td>\n",
       "      <td>ultra</td>\n",
       "      <td>4409.919140</td>\n",
       "      <td>25.599769</td>\n",
       "      <td>2021-01-01</td>\n",
       "      <td>1</td>\n",
       "      <td>6</td>\n",
       "      <td>0</td>\n",
       "      <td>199</td>\n",
       "    </tr>\n",
       "    <tr>\n",
       "      <th>1</th>\n",
       "      <td>1</td>\n",
       "      <td>Кира</td>\n",
       "      <td>22</td>\n",
       "      <td>Тюмень</td>\n",
       "      <td>ultra</td>\n",
       "      <td>2617.592153</td>\n",
       "      <td>15.816871</td>\n",
       "      <td>2021-01-18</td>\n",
       "      <td>1</td>\n",
       "      <td>6</td>\n",
       "      <td>0</td>\n",
       "      <td>199</td>\n",
       "    </tr>\n",
       "    <tr>\n",
       "      <th>2</th>\n",
       "      <td>1</td>\n",
       "      <td>Кира</td>\n",
       "      <td>22</td>\n",
       "      <td>Тюмень</td>\n",
       "      <td>ultra</td>\n",
       "      <td>754.159807</td>\n",
       "      <td>6.232113</td>\n",
       "      <td>2021-04-20</td>\n",
       "      <td>4</td>\n",
       "      <td>6</td>\n",
       "      <td>0</td>\n",
       "      <td>199</td>\n",
       "    </tr>\n",
       "    <tr>\n",
       "      <th>3</th>\n",
       "      <td>1</td>\n",
       "      <td>Кира</td>\n",
       "      <td>22</td>\n",
       "      <td>Тюмень</td>\n",
       "      <td>ultra</td>\n",
       "      <td>2694.783254</td>\n",
       "      <td>18.511000</td>\n",
       "      <td>2021-08-11</td>\n",
       "      <td>8</td>\n",
       "      <td>6</td>\n",
       "      <td>0</td>\n",
       "      <td>199</td>\n",
       "    </tr>\n",
       "    <tr>\n",
       "      <th>4</th>\n",
       "      <td>1</td>\n",
       "      <td>Кира</td>\n",
       "      <td>22</td>\n",
       "      <td>Тюмень</td>\n",
       "      <td>ultra</td>\n",
       "      <td>4028.687306</td>\n",
       "      <td>26.265803</td>\n",
       "      <td>2021-08-28</td>\n",
       "      <td>8</td>\n",
       "      <td>6</td>\n",
       "      <td>0</td>\n",
       "      <td>199</td>\n",
       "    </tr>\n",
       "    <tr>\n",
       "      <th>...</th>\n",
       "      <td>...</td>\n",
       "      <td>...</td>\n",
       "      <td>...</td>\n",
       "      <td>...</td>\n",
       "      <td>...</td>\n",
       "      <td>...</td>\n",
       "      <td>...</td>\n",
       "      <td>...</td>\n",
       "      <td>...</td>\n",
       "      <td>...</td>\n",
       "      <td>...</td>\n",
       "      <td>...</td>\n",
       "    </tr>\n",
       "    <tr>\n",
       "      <th>6495</th>\n",
       "      <td>699</td>\n",
       "      <td>Оксана</td>\n",
       "      <td>22</td>\n",
       "      <td>Москва</td>\n",
       "      <td>ultra</td>\n",
       "      <td>3973.046497</td>\n",
       "      <td>24.671163</td>\n",
       "      <td>2021-08-29</td>\n",
       "      <td>8</td>\n",
       "      <td>6</td>\n",
       "      <td>0</td>\n",
       "      <td>199</td>\n",
       "    </tr>\n",
       "    <tr>\n",
       "      <th>6496</th>\n",
       "      <td>699</td>\n",
       "      <td>Оксана</td>\n",
       "      <td>22</td>\n",
       "      <td>Москва</td>\n",
       "      <td>ultra</td>\n",
       "      <td>3288.702563</td>\n",
       "      <td>15.892886</td>\n",
       "      <td>2021-09-12</td>\n",
       "      <td>9</td>\n",
       "      <td>6</td>\n",
       "      <td>0</td>\n",
       "      <td>199</td>\n",
       "    </tr>\n",
       "    <tr>\n",
       "      <th>6497</th>\n",
       "      <td>699</td>\n",
       "      <td>Оксана</td>\n",
       "      <td>22</td>\n",
       "      <td>Москва</td>\n",
       "      <td>ultra</td>\n",
       "      <td>3076.159348</td>\n",
       "      <td>14.389525</td>\n",
       "      <td>2021-09-26</td>\n",
       "      <td>9</td>\n",
       "      <td>6</td>\n",
       "      <td>0</td>\n",
       "      <td>199</td>\n",
       "    </tr>\n",
       "    <tr>\n",
       "      <th>6498</th>\n",
       "      <td>699</td>\n",
       "      <td>Оксана</td>\n",
       "      <td>22</td>\n",
       "      <td>Москва</td>\n",
       "      <td>ultra</td>\n",
       "      <td>4707.845501</td>\n",
       "      <td>15.839579</td>\n",
       "      <td>2021-10-17</td>\n",
       "      <td>10</td>\n",
       "      <td>6</td>\n",
       "      <td>0</td>\n",
       "      <td>199</td>\n",
       "    </tr>\n",
       "    <tr>\n",
       "      <th>6499</th>\n",
       "      <td>699</td>\n",
       "      <td>Оксана</td>\n",
       "      <td>22</td>\n",
       "      <td>Москва</td>\n",
       "      <td>ultra</td>\n",
       "      <td>3202.890770</td>\n",
       "      <td>25.217345</td>\n",
       "      <td>2021-12-03</td>\n",
       "      <td>12</td>\n",
       "      <td>6</td>\n",
       "      <td>0</td>\n",
       "      <td>199</td>\n",
       "    </tr>\n",
       "  </tbody>\n",
       "</table>\n",
       "<p>6500 rows × 12 columns</p>\n",
       "</div>"
      ],
      "text/plain": [
       "      user_id    name  age    city subscription_type     distance   duration  \\\n",
       "0           1    Кира   22  Тюмень             ultra  4409.919140  25.599769   \n",
       "1           1    Кира   22  Тюмень             ultra  2617.592153  15.816871   \n",
       "2           1    Кира   22  Тюмень             ultra   754.159807   6.232113   \n",
       "3           1    Кира   22  Тюмень             ultra  2694.783254  18.511000   \n",
       "4           1    Кира   22  Тюмень             ultra  4028.687306  26.265803   \n",
       "...       ...     ...  ...     ...               ...          ...        ...   \n",
       "6495      699  Оксана   22  Москва             ultra  3973.046497  24.671163   \n",
       "6496      699  Оксана   22  Москва             ultra  3288.702563  15.892886   \n",
       "6497      699  Оксана   22  Москва             ultra  3076.159348  14.389525   \n",
       "6498      699  Оксана   22  Москва             ultra  4707.845501  15.839579   \n",
       "6499      699  Оксана   22  Москва             ultra  3202.890770  25.217345   \n",
       "\n",
       "           date  month  minute_price  start_ride_price  subscription_fee  \n",
       "0    2021-01-01      1             6                 0               199  \n",
       "1    2021-01-18      1             6                 0               199  \n",
       "2    2021-04-20      4             6                 0               199  \n",
       "3    2021-08-11      8             6                 0               199  \n",
       "4    2021-08-28      8             6                 0               199  \n",
       "...         ...    ...           ...               ...               ...  \n",
       "6495 2021-08-29      8             6                 0               199  \n",
       "6496 2021-09-12      9             6                 0               199  \n",
       "6497 2021-09-26      9             6                 0               199  \n",
       "6498 2021-10-17     10             6                 0               199  \n",
       "6499 2021-12-03     12             6                 0               199  \n",
       "\n",
       "[6500 rows x 12 columns]"
      ]
     },
     "execution_count": 15,
     "metadata": {},
     "output_type": "execute_result"
    }
   ],
   "source": [
    "df_ultra = df[df['subscription_type']=='ultra']\n",
    "df_ultra"
   ]
  },
  {
   "cell_type": "code",
   "execution_count": 16,
   "id": "04a38d1f",
   "metadata": {},
   "outputs": [
    {
     "data": {
      "text/html": [
       "<div>\n",
       "<style scoped>\n",
       "    .dataframe tbody tr th:only-of-type {\n",
       "        vertical-align: middle;\n",
       "    }\n",
       "\n",
       "    .dataframe tbody tr th {\n",
       "        vertical-align: top;\n",
       "    }\n",
       "\n",
       "    .dataframe thead th {\n",
       "        text-align: right;\n",
       "    }\n",
       "</style>\n",
       "<table border=\"1\" class=\"dataframe\">\n",
       "  <thead>\n",
       "    <tr style=\"text-align: right;\">\n",
       "      <th></th>\n",
       "      <th>user_id</th>\n",
       "      <th>name</th>\n",
       "      <th>age</th>\n",
       "      <th>city</th>\n",
       "      <th>subscription_type</th>\n",
       "      <th>distance</th>\n",
       "      <th>duration</th>\n",
       "      <th>date</th>\n",
       "      <th>month</th>\n",
       "      <th>minute_price</th>\n",
       "      <th>start_ride_price</th>\n",
       "      <th>subscription_fee</th>\n",
       "    </tr>\n",
       "  </thead>\n",
       "  <tbody>\n",
       "    <tr>\n",
       "      <th>6500</th>\n",
       "      <td>700</td>\n",
       "      <td>Айдар</td>\n",
       "      <td>22</td>\n",
       "      <td>Омск</td>\n",
       "      <td>free</td>\n",
       "      <td>2515.690719</td>\n",
       "      <td>14.944286</td>\n",
       "      <td>2021-01-02</td>\n",
       "      <td>1</td>\n",
       "      <td>8</td>\n",
       "      <td>50</td>\n",
       "      <td>0</td>\n",
       "    </tr>\n",
       "    <tr>\n",
       "      <th>6501</th>\n",
       "      <td>700</td>\n",
       "      <td>Айдар</td>\n",
       "      <td>22</td>\n",
       "      <td>Омск</td>\n",
       "      <td>free</td>\n",
       "      <td>846.932642</td>\n",
       "      <td>16.234663</td>\n",
       "      <td>2021-02-01</td>\n",
       "      <td>2</td>\n",
       "      <td>8</td>\n",
       "      <td>50</td>\n",
       "      <td>0</td>\n",
       "    </tr>\n",
       "    <tr>\n",
       "      <th>6502</th>\n",
       "      <td>700</td>\n",
       "      <td>Айдар</td>\n",
       "      <td>22</td>\n",
       "      <td>Омск</td>\n",
       "      <td>free</td>\n",
       "      <td>4004.434142</td>\n",
       "      <td>20.016628</td>\n",
       "      <td>2021-02-04</td>\n",
       "      <td>2</td>\n",
       "      <td>8</td>\n",
       "      <td>50</td>\n",
       "      <td>0</td>\n",
       "    </tr>\n",
       "    <tr>\n",
       "      <th>6503</th>\n",
       "      <td>700</td>\n",
       "      <td>Айдар</td>\n",
       "      <td>22</td>\n",
       "      <td>Омск</td>\n",
       "      <td>free</td>\n",
       "      <td>1205.911290</td>\n",
       "      <td>9.782872</td>\n",
       "      <td>2021-02-10</td>\n",
       "      <td>2</td>\n",
       "      <td>8</td>\n",
       "      <td>50</td>\n",
       "      <td>0</td>\n",
       "    </tr>\n",
       "    <tr>\n",
       "      <th>6504</th>\n",
       "      <td>700</td>\n",
       "      <td>Айдар</td>\n",
       "      <td>22</td>\n",
       "      <td>Омск</td>\n",
       "      <td>free</td>\n",
       "      <td>3047.379435</td>\n",
       "      <td>17.427673</td>\n",
       "      <td>2021-02-14</td>\n",
       "      <td>2</td>\n",
       "      <td>8</td>\n",
       "      <td>50</td>\n",
       "      <td>0</td>\n",
       "    </tr>\n",
       "    <tr>\n",
       "      <th>...</th>\n",
       "      <td>...</td>\n",
       "      <td>...</td>\n",
       "      <td>...</td>\n",
       "      <td>...</td>\n",
       "      <td>...</td>\n",
       "      <td>...</td>\n",
       "      <td>...</td>\n",
       "      <td>...</td>\n",
       "      <td>...</td>\n",
       "      <td>...</td>\n",
       "      <td>...</td>\n",
       "      <td>...</td>\n",
       "    </tr>\n",
       "    <tr>\n",
       "      <th>18063</th>\n",
       "      <td>1534</td>\n",
       "      <td>Альберт</td>\n",
       "      <td>25</td>\n",
       "      <td>Краснодар</td>\n",
       "      <td>free</td>\n",
       "      <td>3781.098080</td>\n",
       "      <td>19.822962</td>\n",
       "      <td>2021-11-04</td>\n",
       "      <td>11</td>\n",
       "      <td>8</td>\n",
       "      <td>50</td>\n",
       "      <td>0</td>\n",
       "    </tr>\n",
       "    <tr>\n",
       "      <th>18064</th>\n",
       "      <td>1534</td>\n",
       "      <td>Альберт</td>\n",
       "      <td>25</td>\n",
       "      <td>Краснодар</td>\n",
       "      <td>free</td>\n",
       "      <td>2840.423057</td>\n",
       "      <td>21.409799</td>\n",
       "      <td>2021-11-16</td>\n",
       "      <td>11</td>\n",
       "      <td>8</td>\n",
       "      <td>50</td>\n",
       "      <td>0</td>\n",
       "    </tr>\n",
       "    <tr>\n",
       "      <th>18065</th>\n",
       "      <td>1534</td>\n",
       "      <td>Альберт</td>\n",
       "      <td>25</td>\n",
       "      <td>Краснодар</td>\n",
       "      <td>free</td>\n",
       "      <td>3826.185507</td>\n",
       "      <td>18.435051</td>\n",
       "      <td>2021-11-18</td>\n",
       "      <td>11</td>\n",
       "      <td>8</td>\n",
       "      <td>50</td>\n",
       "      <td>0</td>\n",
       "    </tr>\n",
       "    <tr>\n",
       "      <th>18066</th>\n",
       "      <td>1534</td>\n",
       "      <td>Альберт</td>\n",
       "      <td>25</td>\n",
       "      <td>Краснодар</td>\n",
       "      <td>free</td>\n",
       "      <td>2902.308661</td>\n",
       "      <td>16.674362</td>\n",
       "      <td>2021-11-27</td>\n",
       "      <td>11</td>\n",
       "      <td>8</td>\n",
       "      <td>50</td>\n",
       "      <td>0</td>\n",
       "    </tr>\n",
       "    <tr>\n",
       "      <th>18067</th>\n",
       "      <td>1534</td>\n",
       "      <td>Альберт</td>\n",
       "      <td>25</td>\n",
       "      <td>Краснодар</td>\n",
       "      <td>free</td>\n",
       "      <td>2371.711192</td>\n",
       "      <td>15.893917</td>\n",
       "      <td>2021-12-29</td>\n",
       "      <td>12</td>\n",
       "      <td>8</td>\n",
       "      <td>50</td>\n",
       "      <td>0</td>\n",
       "    </tr>\n",
       "  </tbody>\n",
       "</table>\n",
       "<p>11568 rows × 12 columns</p>\n",
       "</div>"
      ],
      "text/plain": [
       "       user_id     name  age       city subscription_type     distance  \\\n",
       "6500       700    Айдар   22       Омск              free  2515.690719   \n",
       "6501       700    Айдар   22       Омск              free   846.932642   \n",
       "6502       700    Айдар   22       Омск              free  4004.434142   \n",
       "6503       700    Айдар   22       Омск              free  1205.911290   \n",
       "6504       700    Айдар   22       Омск              free  3047.379435   \n",
       "...        ...      ...  ...        ...               ...          ...   \n",
       "18063     1534  Альберт   25  Краснодар              free  3781.098080   \n",
       "18064     1534  Альберт   25  Краснодар              free  2840.423057   \n",
       "18065     1534  Альберт   25  Краснодар              free  3826.185507   \n",
       "18066     1534  Альберт   25  Краснодар              free  2902.308661   \n",
       "18067     1534  Альберт   25  Краснодар              free  2371.711192   \n",
       "\n",
       "        duration       date  month  minute_price  start_ride_price  \\\n",
       "6500   14.944286 2021-01-02      1             8                50   \n",
       "6501   16.234663 2021-02-01      2             8                50   \n",
       "6502   20.016628 2021-02-04      2             8                50   \n",
       "6503    9.782872 2021-02-10      2             8                50   \n",
       "6504   17.427673 2021-02-14      2             8                50   \n",
       "...          ...        ...    ...           ...               ...   \n",
       "18063  19.822962 2021-11-04     11             8                50   \n",
       "18064  21.409799 2021-11-16     11             8                50   \n",
       "18065  18.435051 2021-11-18     11             8                50   \n",
       "18066  16.674362 2021-11-27     11             8                50   \n",
       "18067  15.893917 2021-12-29     12             8                50   \n",
       "\n",
       "       subscription_fee  \n",
       "6500                  0  \n",
       "6501                  0  \n",
       "6502                  0  \n",
       "6503                  0  \n",
       "6504                  0  \n",
       "...                 ...  \n",
       "18063                 0  \n",
       "18064                 0  \n",
       "18065                 0  \n",
       "18066                 0  \n",
       "18067                 0  \n",
       "\n",
       "[11568 rows x 12 columns]"
      ]
     },
     "execution_count": 16,
     "metadata": {},
     "output_type": "execute_result"
    }
   ],
   "source": [
    "df_free = df[df['subscription_type']=='free']\n",
    "df_free"
   ]
  },
  {
   "cell_type": "markdown",
   "id": "c5efe61b",
   "metadata": {},
   "source": [
    "__С подпиской__ "
   ]
  },
  {
   "cell_type": "code",
   "execution_count": 17,
   "id": "bf1f0199",
   "metadata": {},
   "outputs": [
    {
     "data": {
      "image/png": "[encoded data removed]",
      "text/plain": [
       "<Figure size 432x288 with 1 Axes>"
      ]
     },
     "metadata": {
      "needs_background": "light"
     },
     "output_type": "display_data"
    },
    {
     "data": {
      "image/png": "[encoded data removed]",
      "text/plain": [
       "<Figure size 432x288 with 1 Axes>"
      ]
     },
     "metadata": {
      "needs_background": "light"
     },
     "output_type": "display_data"
    }
   ],
   "source": [
    "df_ultra['distance'].hist(bins=30)\n",
    "plt.title('Растояние пользователей с подпиской')\n",
    "plt.xlabel('Метры')\n",
    "plt.ylabel('Количество поездок')\n",
    "plt.show()\n",
    "df_ultra['duration'].hist(bins=30)\n",
    "plt.title('Длительность поездок пользователей с подпиской')\n",
    "plt.xlabel('Минуты')\n",
    "plt.ylabel('Количество поездок')\n",
    "plt.show()"
   ]
  },
  {
   "cell_type": "markdown",
   "id": "7cda4217",
   "metadata": {},
   "source": [
    "__Без подписки__"
   ]
  },
  {
   "cell_type": "code",
   "execution_count": 18,
   "id": "54e596ad",
   "metadata": {},
   "outputs": [
    {
     "data": {
      "image/png": "[encoded data removed]",
      "text/plain": [
       "<Figure size 432x288 with 1 Axes>"
      ]
     },
     "metadata": {
      "needs_background": "light"
     },
     "output_type": "display_data"
    },
    {
     "data": {
      "image/png": "[encoded data removed]",
      "text/plain": [
       "<Figure size 432x288 with 1 Axes>"
      ]
     },
     "metadata": {
      "needs_background": "light"
     },
     "output_type": "display_data"
    }
   ],
   "source": [
    "df_free['distance'].hist(bins=30)\n",
    "plt.title('Растояние пользователей без подписки')\n",
    "plt.xlabel('метры')\n",
    "plt.ylabel('количество поездок')\n",
    "plt.show()\n",
    "df_free['duration'].hist(bins=30)\n",
    "plt.title('Длительность поездок пользователей без подписки')\n",
    "plt.xlabel('Минуты')\n",
    "plt.ylabel('количество поездок')\n",
    "plt.show()"
   ]
  },
  {
   "cell_type": "markdown",
   "id": "775e96e6",
   "metadata": {},
   "source": [
    "больший разброс и по длительности и по дистанции у пользователей без подписки, так как их больше. У пользователей без подписки чаще встречаются короткие поездки до 500 метров это видно по небольшой горке в начале графика"
   ]
  },
  {
   "cell_type": "markdown",
   "id": "402d620f",
   "metadata": {},
   "source": [
    "## Подсчёт выручки"
   ]
  },
  {
   "cell_type": "code",
   "execution_count": 19,
   "id": "53049e0a",
   "metadata": {},
   "outputs": [
    {
     "data": {
      "text/html": [
       "<div>\n",
       "<style scoped>\n",
       "    .dataframe tbody tr th:only-of-type {\n",
       "        vertical-align: middle;\n",
       "    }\n",
       "\n",
       "    .dataframe tbody tr th {\n",
       "        vertical-align: top;\n",
       "    }\n",
       "\n",
       "    .dataframe thead th {\n",
       "        text-align: right;\n",
       "    }\n",
       "</style>\n",
       "<table border=\"1\" class=\"dataframe\">\n",
       "  <thead>\n",
       "    <tr style=\"text-align: right;\">\n",
       "      <th></th>\n",
       "      <th></th>\n",
       "      <th>distance</th>\n",
       "      <th>duration</th>\n",
       "      <th>name</th>\n",
       "      <th>minute_price</th>\n",
       "      <th>start_ride_price</th>\n",
       "      <th>subscription_fee</th>\n",
       "      <th>paid</th>\n",
       "    </tr>\n",
       "    <tr>\n",
       "      <th>month</th>\n",
       "      <th>user_id</th>\n",
       "      <th></th>\n",
       "      <th></th>\n",
       "      <th></th>\n",
       "      <th></th>\n",
       "      <th></th>\n",
       "      <th></th>\n",
       "      <th></th>\n",
       "    </tr>\n",
       "  </thead>\n",
       "  <tbody>\n",
       "    <tr>\n",
       "      <th rowspan=\"5\" valign=\"top\">1</th>\n",
       "      <th>1</th>\n",
       "      <td>7027.511294</td>\n",
       "      <td>42.0</td>\n",
       "      <td>2</td>\n",
       "      <td>6</td>\n",
       "      <td>0</td>\n",
       "      <td>199</td>\n",
       "      <td>451.0</td>\n",
       "    </tr>\n",
       "    <tr>\n",
       "      <th>3</th>\n",
       "      <td>3061.777147</td>\n",
       "      <td>13.0</td>\n",
       "      <td>1</td>\n",
       "      <td>6</td>\n",
       "      <td>0</td>\n",
       "      <td>199</td>\n",
       "      <td>277.0</td>\n",
       "    </tr>\n",
       "    <tr>\n",
       "      <th>5</th>\n",
       "      <td>3914.646990</td>\n",
       "      <td>13.0</td>\n",
       "      <td>1</td>\n",
       "      <td>6</td>\n",
       "      <td>0</td>\n",
       "      <td>199</td>\n",
       "      <td>277.0</td>\n",
       "    </tr>\n",
       "    <tr>\n",
       "      <th>7</th>\n",
       "      <td>6478.080979</td>\n",
       "      <td>28.0</td>\n",
       "      <td>2</td>\n",
       "      <td>6</td>\n",
       "      <td>0</td>\n",
       "      <td>199</td>\n",
       "      <td>367.0</td>\n",
       "    </tr>\n",
       "    <tr>\n",
       "      <th>12</th>\n",
       "      <td>3577.151148</td>\n",
       "      <td>33.0</td>\n",
       "      <td>1</td>\n",
       "      <td>6</td>\n",
       "      <td>0</td>\n",
       "      <td>199</td>\n",
       "      <td>397.0</td>\n",
       "    </tr>\n",
       "    <tr>\n",
       "      <th>...</th>\n",
       "      <th>...</th>\n",
       "      <td>...</td>\n",
       "      <td>...</td>\n",
       "      <td>...</td>\n",
       "      <td>...</td>\n",
       "      <td>...</td>\n",
       "      <td>...</td>\n",
       "      <td>...</td>\n",
       "    </tr>\n",
       "    <tr>\n",
       "      <th rowspan=\"5\" valign=\"top\">12</th>\n",
       "      <th>1525</th>\n",
       "      <td>4597.854350</td>\n",
       "      <td>34.0</td>\n",
       "      <td>1</td>\n",
       "      <td>8</td>\n",
       "      <td>50</td>\n",
       "      <td>0</td>\n",
       "      <td>322.0</td>\n",
       "    </tr>\n",
       "    <tr>\n",
       "      <th>1526</th>\n",
       "      <td>3644.121544</td>\n",
       "      <td>23.0</td>\n",
       "      <td>1</td>\n",
       "      <td>8</td>\n",
       "      <td>50</td>\n",
       "      <td>0</td>\n",
       "      <td>234.0</td>\n",
       "    </tr>\n",
       "    <tr>\n",
       "      <th>1528</th>\n",
       "      <td>3998.569324</td>\n",
       "      <td>11.0</td>\n",
       "      <td>1</td>\n",
       "      <td>8</td>\n",
       "      <td>50</td>\n",
       "      <td>0</td>\n",
       "      <td>138.0</td>\n",
       "    </tr>\n",
       "    <tr>\n",
       "      <th>1532</th>\n",
       "      <td>6111.889853</td>\n",
       "      <td>42.0</td>\n",
       "      <td>2</td>\n",
       "      <td>8</td>\n",
       "      <td>50</td>\n",
       "      <td>0</td>\n",
       "      <td>436.0</td>\n",
       "    </tr>\n",
       "    <tr>\n",
       "      <th>1534</th>\n",
       "      <td>2371.711192</td>\n",
       "      <td>16.0</td>\n",
       "      <td>1</td>\n",
       "      <td>8</td>\n",
       "      <td>50</td>\n",
       "      <td>0</td>\n",
       "      <td>178.0</td>\n",
       "    </tr>\n",
       "  </tbody>\n",
       "</table>\n",
       "<p>11331 rows × 7 columns</p>\n",
       "</div>"
      ],
      "text/plain": [
       "                  distance  duration  name  minute_price  start_ride_price  \\\n",
       "month user_id                                                                \n",
       "1     1        7027.511294      42.0     2             6                 0   \n",
       "      3        3061.777147      13.0     1             6                 0   \n",
       "      5        3914.646990      13.0     1             6                 0   \n",
       "      7        6478.080979      28.0     2             6                 0   \n",
       "      12       3577.151148      33.0     1             6                 0   \n",
       "...                    ...       ...   ...           ...               ...   \n",
       "12    1525     4597.854350      34.0     1             8                50   \n",
       "      1526     3644.121544      23.0     1             8                50   \n",
       "      1528     3998.569324      11.0     1             8                50   \n",
       "      1532     6111.889853      42.0     2             8                50   \n",
       "      1534     2371.711192      16.0     1             8                50   \n",
       "\n",
       "               subscription_fee   paid  \n",
       "month user_id                           \n",
       "1     1                     199  451.0  \n",
       "      3                     199  277.0  \n",
       "      5                     199  277.0  \n",
       "      7                     199  367.0  \n",
       "      12                    199  397.0  \n",
       "...                         ...    ...  \n",
       "12    1525                    0  322.0  \n",
       "      1526                    0  234.0  \n",
       "      1528                    0  138.0  \n",
       "      1532                    0  436.0  \n",
       "      1534                    0  178.0  \n",
       "\n",
       "[11331 rows x 7 columns]"
      ]
     },
     "execution_count": 19,
     "metadata": {},
     "output_type": "execute_result"
    }
   ],
   "source": [
    "df['duration'] = np.ceil(df['duration'])\n",
    "agg_data = df.pivot_table(index=['month', 'user_id'], values=['duration', 'distance', 'minute_price',  'start_ride_price', 'subscription_fee', 'name'], aggfunc={'name':'count', 'distance':'sum', 'duration':'sum'})\n",
    "help1=df.pivot_table(index=['month', 'user_id'], values=['minute_price',  'start_ride_price', 'subscription_fee'])\n",
    "agg_data = agg_data.merge(help1,on=['month', 'user_id'])\n",
    "agg_data['paid'] = (agg_data['name'] * agg_data['start_ride_price']) + (agg_data['duration'] * agg_data['minute_price']) + agg_data['subscription_fee']\n",
    "agg_data"
   ]
  },
  {
   "cell_type": "markdown",
   "id": "3259975e",
   "metadata": {},
   "source": [
    "name - количество поездок"
   ]
  },
  {
   "cell_type": "markdown",
   "id": "41545ac0",
   "metadata": {},
   "source": [
    "## Проверка гипотез"
   ]
  },
  {
   "cell_type": "markdown",
   "id": "4d19beba",
   "metadata": {},
   "source": [
    "H0 = пользователи с подпиской и без тратят одинакого времени\n",
    "H1 = пользователи с подпиской тратят больше времени чем пользователм без подписки"
   ]
  },
  {
   "cell_type": "code",
   "execution_count": 20,
   "id": "23ea867b",
   "metadata": {
    "scrolled": true
   },
   "outputs": [
    {
     "name": "stdout",
     "output_type": "stream",
     "text": [
      "2.4959453720736625e-34\n",
      "нулевая гипотеза отвергнута\n"
     ]
    }
   ],
   "source": [
    "res = st.ttest_ind(\n",
    "    df.query('user_id in @df_ultra[\"user_id\"]')['duration'],\n",
    "    df.query('user_id in @df_free[\"user_id\"]')['duration'],\n",
    "    alternative='greater'\n",
    ")\n",
    "print(res.pvalue)\n",
    "alpha = 0.05\n",
    "if res.pvalue < alpha:\n",
    "    print('нулевая гипотеза отвергнута')\n",
    "else:\n",
    "    print('не отвергаем')"
   ]
  },
  {
   "cell_type": "markdown",
   "id": "11ac4f60",
   "metadata": {},
   "source": [
    "пользователи с подпиской берут самокаты на большее время"
   ]
  },
  {
   "cell_type": "markdown",
   "id": "a6f04b35",
   "metadata": {},
   "source": [
    "H0 = растояние которое проезжают пользователи с подпиской меньше либо ровно 3130 H1 = растояние которое проезжают пользователи с подпиской больше 3130"
   ]
  },
  {
   "cell_type": "code",
   "execution_count": 21,
   "id": "b7e22185",
   "metadata": {
    "scrolled": true
   },
   "outputs": [
    {
     "name": "stdout",
     "output_type": "stream",
     "text": [
      "0.9195368847849785\n",
      "не отвергаем\n"
     ]
    }
   ],
   "source": [
    "res = st.ttest_1samp(\n",
    "    df.query('user_id in @df_ultra[\"user_id\"]')['distance'],\n",
    "    3130,\n",
    "    alternative='greater'\n",
    ")\n",
    "print(res.pvalue)\n",
    "alpha = 0.05\n",
    "if res.pvalue < alpha:\n",
    "    print('нулевая гипотеза отвергнута')\n",
    "else:\n",
    "    print('не отвергаем')"
   ]
  },
  {
   "cell_type": "markdown",
   "id": "a0f44a7c",
   "metadata": {},
   "source": [
    "растояние которое преодоливает пользователь с подпиской меньше или равно 3130"
   ]
  },
  {
   "cell_type": "markdown",
   "id": "fb5ad23c",
   "metadata": {},
   "source": [
    "H0 = пользователи с подпиской и без тратят одинакого денег H1= пользователи с подпиской тратят больше денег чем пользователи без подписки "
   ]
  },
  {
   "cell_type": "code",
   "execution_count": 22,
   "id": "f5d78e78",
   "metadata": {},
   "outputs": [
    {
     "name": "stdout",
     "output_type": "stream",
     "text": [
      "1.8850394384715216e-31\n",
      "нулевая гипотеза отвергнута\n"
     ]
    }
   ],
   "source": [
    "\n",
    "res = st.ttest_ind(\n",
    "    agg_data.query('user_id in @df_ultra[\"user_id\"]')['paid'],\n",
    "    agg_data.query('user_id in @df_free[\"user_id\"]')['paid'],\n",
    "    alternative='greater'\n",
    ")\n",
    "print(res.pvalue)\n",
    "alpha = 0.05\n",
    "if res.pvalue < alpha:\n",
    "    print('нулевая гипотеза отвергнута')\n",
    "else:\n",
    "    print('не отвергаем')"
   ]
  },
  {
   "cell_type": "markdown",
   "id": "68dd9ada",
   "metadata": {},
   "source": [
    " пользователи с подпиской тратят больще денег чем пользователи без нее"
   ]
  },
  {
   "cell_type": "markdown",
   "id": "e8a0dc79",
   "metadata": {},
   "source": [
    "буду использовать тест для проверки двух зависимых генеральных совокупностей st.ttest_rel() одностороняя гипотеза "
   ]
  },
  {
   "cell_type": "markdown",
   "id": "837b3209-4001-479e-b8ac-b957adb64240",
   "metadata": {},
   "source": [
    "## Вывод"
   ]
  },
  {
   "cell_type": "markdown",
   "id": "86f55db2",
   "metadata": {},
   "source": [
    "__Общий вывод__: был провиден анализ данных, дубликаты не бфли найдены, встречаемость высше всего в пятегорске около 260, на втором месте по встречаемости 4 города Ростов, Краснодар, Екатеренбург, Сочи. Самый редкий город - Москва, в основном услугой пользуются люди 25 лет до и после 25 лет людей становится меньше и меньше, больший разброс и по длительности и по дистанции у пользователей без подписки, при проверке гипотез выяснил что выяснил:\n",
    "\n",
    "1.пользователи с подпиской беркт самокаты на большее время\n",
    "\n",
    "2.пользователи преодолевают на самокате обычно не больше 3130 метров\n",
    "\n",
    "3.пользователи с подпиской тратят больще денег чем пользователи без нее"
   ]
  },
  {
   "cell_type": "code",
   "execution_count": null,
   "id": "a666bbba-cc93-4b21-86ef-ae254fe80693",
   "metadata": {},
   "outputs": [],
   "source": []
  }
 ],
 "metadata": {
  "ExecuteTimeLog": [
   {
    "duration": 44,
    "start_time": "2024-04-28T15:09:29.264Z"
   },
   {
    "duration": 347,
    "start_time": "2024-04-28T15:09:32.579Z"
   },
   {
    "duration": 126,
    "start_time": "2024-04-28T15:09:40.516Z"
   },
   {
    "duration": 50,
    "start_time": "2024-04-28T15:11:09.377Z"
   },
   {
    "duration": 47,
    "start_time": "2024-04-28T15:11:18.897Z"
   },
   {
    "duration": 105,
    "start_time": "2024-04-28T15:11:54.655Z"
   },
   {
    "duration": 33,
    "start_time": "2024-04-28T15:14:08.418Z"
   },
   {
    "duration": 263,
    "start_time": "2024-04-28T15:14:16.260Z"
   },
   {
    "duration": 13,
    "start_time": "2024-04-28T15:15:41.346Z"
   },
   {
    "duration": 9,
    "start_time": "2024-04-28T15:16:00.348Z"
   },
   {
    "duration": 8,
    "start_time": "2024-04-28T15:16:14.801Z"
   },
   {
    "duration": 12,
    "start_time": "2024-04-28T15:16:22.183Z"
   },
   {
    "duration": 8,
    "start_time": "2024-04-28T15:24:10.663Z"
   },
   {
    "duration": 53,
    "start_time": "2024-04-28T15:26:34.817Z"
   },
   {
    "duration": 19,
    "start_time": "2024-04-28T15:26:44.582Z"
   },
   {
    "duration": 16,
    "start_time": "2024-04-28T15:26:55.506Z"
   },
   {
    "duration": 8,
    "start_time": "2024-04-28T15:28:03.505Z"
   },
   {
    "duration": 11,
    "start_time": "2024-04-28T15:28:37.277Z"
   },
   {
    "duration": 17,
    "start_time": "2024-04-28T15:29:13.030Z"
   },
   {
    "duration": 13,
    "start_time": "2024-04-28T15:30:24.121Z"
   },
   {
    "duration": 14,
    "start_time": "2024-04-28T15:30:39.562Z"
   },
   {
    "duration": 11,
    "start_time": "2024-04-28T15:31:00.250Z"
   },
   {
    "duration": 15,
    "start_time": "2024-04-28T15:31:28.422Z"
   },
   {
    "duration": 14,
    "start_time": "2024-04-28T15:32:37.015Z"
   },
   {
    "duration": 14,
    "start_time": "2024-04-28T15:32:43.773Z"
   },
   {
    "duration": 11,
    "start_time": "2024-04-28T15:33:23.933Z"
   },
   {
    "duration": 14,
    "start_time": "2024-04-28T15:34:47.788Z"
   },
   {
    "duration": 13,
    "start_time": "2024-04-28T15:35:06.897Z"
   },
   {
    "duration": 13,
    "start_time": "2024-04-28T15:36:00.537Z"
   },
   {
    "duration": 12,
    "start_time": "2024-04-28T15:38:35.260Z"
   },
   {
    "duration": 13,
    "start_time": "2024-04-28T15:39:37.103Z"
   },
   {
    "duration": 357,
    "start_time": "2024-04-28T15:40:58.857Z"
   },
   {
    "duration": 71,
    "start_time": "2024-04-28T15:40:59.216Z"
   },
   {
    "duration": 14,
    "start_time": "2024-04-28T15:40:59.288Z"
   },
   {
    "duration": 8,
    "start_time": "2024-04-28T15:40:59.303Z"
   },
   {
    "duration": 7,
    "start_time": "2024-04-28T15:40:59.314Z"
   },
   {
    "duration": 13,
    "start_time": "2024-04-28T15:40:59.323Z"
   },
   {
    "duration": 15,
    "start_time": "2024-04-28T15:40:59.338Z"
   },
   {
    "duration": 18,
    "start_time": "2024-04-28T15:41:36.601Z"
   },
   {
    "duration": 406,
    "start_time": "2024-04-28T15:41:59.205Z"
   },
   {
    "duration": 68,
    "start_time": "2024-04-28T15:41:59.612Z"
   },
   {
    "duration": 15,
    "start_time": "2024-04-28T15:41:59.681Z"
   },
   {
    "duration": 17,
    "start_time": "2024-04-28T15:41:59.697Z"
   },
   {
    "duration": 25,
    "start_time": "2024-04-28T15:41:59.716Z"
   },
   {
    "duration": 21,
    "start_time": "2024-04-28T15:41:59.743Z"
   },
   {
    "duration": 20,
    "start_time": "2024-04-28T15:41:59.765Z"
   },
   {
    "duration": 342,
    "start_time": "2024-04-28T15:42:25.468Z"
   },
   {
    "duration": 68,
    "start_time": "2024-04-28T15:42:25.812Z"
   },
   {
    "duration": 14,
    "start_time": "2024-04-28T15:42:25.881Z"
   },
   {
    "duration": 8,
    "start_time": "2024-04-28T15:42:25.897Z"
   },
   {
    "duration": 7,
    "start_time": "2024-04-28T15:42:25.907Z"
   },
   {
    "duration": 10,
    "start_time": "2024-04-28T15:42:25.916Z"
   },
   {
    "duration": 20,
    "start_time": "2024-04-28T15:42:25.928Z"
   },
   {
    "duration": 377,
    "start_time": "2024-04-28T15:43:40.139Z"
   },
   {
    "duration": 68,
    "start_time": "2024-04-28T15:43:40.518Z"
   },
   {
    "duration": 13,
    "start_time": "2024-04-28T15:43:40.587Z"
   },
   {
    "duration": 18,
    "start_time": "2024-04-28T15:43:40.601Z"
   },
   {
    "duration": 12,
    "start_time": "2024-04-28T15:43:40.621Z"
   },
   {
    "duration": 18,
    "start_time": "2024-04-28T15:43:40.634Z"
   },
   {
    "duration": 21,
    "start_time": "2024-04-28T15:43:40.654Z"
   },
   {
    "duration": 13,
    "start_time": "2024-04-28T15:47:15.184Z"
   },
   {
    "duration": 11,
    "start_time": "2024-04-28T15:48:28.860Z"
   },
   {
    "duration": 66,
    "start_time": "2024-04-28T15:50:24.110Z"
   },
   {
    "duration": 15,
    "start_time": "2024-04-28T15:50:28.909Z"
   },
   {
    "duration": 13,
    "start_time": "2024-04-28T15:50:50.698Z"
   },
   {
    "duration": 17,
    "start_time": "2024-04-28T15:53:17.974Z"
   },
   {
    "duration": 1024,
    "start_time": "2024-04-28T15:53:22.482Z"
   },
   {
    "duration": 24,
    "start_time": "2024-04-28T15:55:52.969Z"
   },
   {
    "duration": 21,
    "start_time": "2024-04-28T15:56:05.973Z"
   },
   {
    "duration": 9,
    "start_time": "2024-04-28T15:56:49.420Z"
   },
   {
    "duration": 436,
    "start_time": "2024-04-28T15:57:38.325Z"
   },
   {
    "duration": 580,
    "start_time": "2024-04-28T15:58:32.853Z"
   },
   {
    "duration": 67,
    "start_time": "2024-04-28T15:58:33.435Z"
   },
   {
    "duration": 12,
    "start_time": "2024-04-28T15:58:33.503Z"
   },
   {
    "duration": 16,
    "start_time": "2024-04-28T15:58:33.516Z"
   },
   {
    "duration": 20,
    "start_time": "2024-04-28T15:58:33.534Z"
   },
   {
    "duration": 12,
    "start_time": "2024-04-28T15:58:33.555Z"
   },
   {
    "duration": 24,
    "start_time": "2024-04-28T15:58:33.568Z"
   },
   {
    "duration": 9,
    "start_time": "2024-04-28T15:58:33.593Z"
   },
   {
    "duration": 87,
    "start_time": "2024-04-28T15:58:33.603Z"
   },
   {
    "duration": 145,
    "start_time": "2024-04-28T15:59:00.301Z"
   },
   {
    "duration": 126,
    "start_time": "2024-04-28T15:59:19.198Z"
   },
   {
    "duration": 2797,
    "start_time": "2024-04-28T15:59:24.503Z"
   },
   {
    "duration": 800,
    "start_time": "2024-04-28T15:59:45.832Z"
   },
   {
    "duration": 186,
    "start_time": "2024-04-28T15:59:55.451Z"
   },
   {
    "duration": 149,
    "start_time": "2024-04-28T16:00:23.041Z"
   },
   {
    "duration": 201,
    "start_time": "2024-04-28T16:00:34.880Z"
   },
   {
    "duration": 141,
    "start_time": "2024-04-28T16:00:39.744Z"
   },
   {
    "duration": 146,
    "start_time": "2024-04-28T16:00:44.279Z"
   },
   {
    "duration": 158,
    "start_time": "2024-04-28T16:01:43.739Z"
   },
   {
    "duration": 8,
    "start_time": "2024-04-28T16:02:30.459Z"
   },
   {
    "duration": 9,
    "start_time": "2024-04-28T16:02:38.684Z"
   },
   {
    "duration": 194,
    "start_time": "2024-04-28T16:02:46.059Z"
   },
   {
    "duration": 165,
    "start_time": "2024-04-28T16:02:56.113Z"
   },
   {
    "duration": 495,
    "start_time": "2024-04-28T16:13:50.542Z"
   },
   {
    "duration": 7,
    "start_time": "2024-04-28T16:14:12.775Z"
   },
   {
    "duration": 12,
    "start_time": "2024-04-28T16:14:18.070Z"
   },
   {
    "duration": 245,
    "start_time": "2024-04-28T16:14:33.793Z"
   },
   {
    "duration": 143,
    "start_time": "2024-04-28T16:15:09.247Z"
   },
   {
    "duration": 123,
    "start_time": "2024-04-28T16:15:55.060Z"
   },
   {
    "duration": 113,
    "start_time": "2024-04-28T16:16:04.814Z"
   },
   {
    "duration": 45,
    "start_time": "2024-04-29T10:51:20.016Z"
   },
   {
    "duration": 1227,
    "start_time": "2024-04-29T10:51:30.608Z"
   },
   {
    "duration": 214,
    "start_time": "2024-04-29T10:51:31.838Z"
   },
   {
    "duration": 14,
    "start_time": "2024-04-29T10:51:32.056Z"
   },
   {
    "duration": 11,
    "start_time": "2024-04-29T10:51:32.072Z"
   },
   {
    "duration": 12,
    "start_time": "2024-04-29T10:51:32.084Z"
   },
   {
    "duration": 11,
    "start_time": "2024-04-29T10:51:32.097Z"
   },
   {
    "duration": 36,
    "start_time": "2024-04-29T10:51:32.109Z"
   },
   {
    "duration": 13,
    "start_time": "2024-04-29T10:51:32.148Z"
   },
   {
    "duration": 187,
    "start_time": "2024-04-29T10:51:32.164Z"
   },
   {
    "duration": 116,
    "start_time": "2024-04-29T10:51:32.353Z"
   },
   {
    "duration": 150,
    "start_time": "2024-04-29T10:51:32.470Z"
   },
   {
    "duration": 256,
    "start_time": "2024-04-29T10:52:25.768Z"
   },
   {
    "duration": 253,
    "start_time": "2024-04-29T10:54:07.413Z"
   },
   {
    "duration": 156,
    "start_time": "2024-04-29T10:55:09.961Z"
   },
   {
    "duration": 96,
    "start_time": "2024-04-29T10:55:24.010Z"
   },
   {
    "duration": 112,
    "start_time": "2024-04-29T10:55:48.465Z"
   },
   {
    "duration": 236,
    "start_time": "2024-04-29T10:57:02.634Z"
   },
   {
    "duration": 252,
    "start_time": "2024-04-29T10:57:12.656Z"
   },
   {
    "duration": 255,
    "start_time": "2024-04-29T10:57:18.290Z"
   },
   {
    "duration": 208,
    "start_time": "2024-04-29T10:57:40.222Z"
   },
   {
    "duration": 202,
    "start_time": "2024-04-29T10:57:51.859Z"
   },
   {
    "duration": 205,
    "start_time": "2024-04-29T10:57:59.446Z"
   },
   {
    "duration": 228,
    "start_time": "2024-04-29T10:58:10.030Z"
   },
   {
    "duration": 208,
    "start_time": "2024-04-29T10:58:28.531Z"
   },
   {
    "duration": 284,
    "start_time": "2024-04-29T10:58:44.837Z"
   },
   {
    "duration": 39,
    "start_time": "2024-04-29T10:58:53.348Z"
   },
   {
    "duration": 419,
    "start_time": "2024-04-29T10:58:58.547Z"
   },
   {
    "duration": 332,
    "start_time": "2024-04-29T10:59:31.960Z"
   },
   {
    "duration": 392,
    "start_time": "2024-04-29T10:59:43.938Z"
   },
   {
    "duration": 247,
    "start_time": "2024-04-29T10:59:56.350Z"
   },
   {
    "duration": 225,
    "start_time": "2024-04-29T11:00:03.930Z"
   },
   {
    "duration": 158,
    "start_time": "2024-04-29T11:00:12.323Z"
   },
   {
    "duration": 122,
    "start_time": "2024-04-29T11:08:38.809Z"
   },
   {
    "duration": 147,
    "start_time": "2024-04-29T11:08:55.259Z"
   },
   {
    "duration": 9,
    "start_time": "2024-04-29T11:09:18.249Z"
   },
   {
    "duration": 264,
    "start_time": "2024-04-29T11:09:35.212Z"
   },
   {
    "duration": 464,
    "start_time": "2024-04-29T11:09:51.346Z"
   },
   {
    "duration": 99,
    "start_time": "2024-04-29T11:11:28.926Z"
   },
   {
    "duration": 375,
    "start_time": "2024-04-29T11:11:40.484Z"
   },
   {
    "duration": 374,
    "start_time": "2024-04-29T11:12:12.928Z"
   },
   {
    "duration": 468,
    "start_time": "2024-04-29T11:12:24.056Z"
   },
   {
    "duration": 391,
    "start_time": "2024-04-29T11:13:19.280Z"
   },
   {
    "duration": 376,
    "start_time": "2024-04-29T11:14:00.130Z"
   },
   {
    "duration": 432,
    "start_time": "2024-04-29T11:14:07.543Z"
   },
   {
    "duration": 258,
    "start_time": "2024-04-29T11:19:28.607Z"
   },
   {
    "duration": 290,
    "start_time": "2024-04-29T11:19:38.867Z"
   },
   {
    "duration": 25,
    "start_time": "2024-04-29T11:25:48.660Z"
   },
   {
    "duration": 25,
    "start_time": "2024-04-29T11:25:59.348Z"
   },
   {
    "duration": 152,
    "start_time": "2024-04-29T11:26:04.975Z"
   },
   {
    "duration": 151,
    "start_time": "2024-04-29T11:26:15.682Z"
   },
   {
    "duration": 147,
    "start_time": "2024-04-29T11:26:23.517Z"
   },
   {
    "duration": 276,
    "start_time": "2024-04-29T11:26:29.943Z"
   },
   {
    "duration": 62,
    "start_time": "2024-04-29T11:26:39.497Z"
   },
   {
    "duration": 345,
    "start_time": "2024-04-29T11:26:42.514Z"
   },
   {
    "duration": 8,
    "start_time": "2024-04-29T11:33:23.480Z"
   },
   {
    "duration": 11,
    "start_time": "2024-04-29T11:33:31.825Z"
   },
   {
    "duration": 18,
    "start_time": "2024-04-29T11:33:42.879Z"
   },
   {
    "duration": 4,
    "start_time": "2024-04-29T11:34:32.942Z"
   },
   {
    "duration": 4,
    "start_time": "2024-04-29T11:34:41.173Z"
   },
   {
    "duration": 21,
    "start_time": "2024-04-29T11:39:20.517Z"
   },
   {
    "duration": 15,
    "start_time": "2024-04-29T11:40:48.473Z"
   },
   {
    "duration": 26,
    "start_time": "2024-04-29T11:40:52.033Z"
   },
   {
    "duration": 6,
    "start_time": "2024-04-29T11:42:19.903Z"
   },
   {
    "duration": 17,
    "start_time": "2024-04-29T11:42:33.383Z"
   },
   {
    "duration": 16,
    "start_time": "2024-04-29T11:42:40.303Z"
   },
   {
    "duration": 28,
    "start_time": "2024-04-29T11:42:46.894Z"
   },
   {
    "duration": 20,
    "start_time": "2024-04-29T11:43:08.495Z"
   },
   {
    "duration": 26,
    "start_time": "2024-04-29T11:44:39.072Z"
   },
   {
    "duration": 11,
    "start_time": "2024-04-29T11:45:17.362Z"
   },
   {
    "duration": 8,
    "start_time": "2024-04-29T11:45:24.675Z"
   },
   {
    "duration": 10,
    "start_time": "2024-04-29T11:45:43.353Z"
   },
   {
    "duration": 6,
    "start_time": "2024-04-29T11:45:53.759Z"
   },
   {
    "duration": 17,
    "start_time": "2024-04-29T11:46:08.087Z"
   },
   {
    "duration": 210,
    "start_time": "2024-04-29T11:48:14.877Z"
   },
   {
    "duration": 221,
    "start_time": "2024-04-29T11:48:50.674Z"
   },
   {
    "duration": 151,
    "start_time": "2024-04-29T11:49:17.092Z"
   },
   {
    "duration": 229,
    "start_time": "2024-04-29T11:49:26.888Z"
   },
   {
    "duration": 152,
    "start_time": "2024-04-29T11:49:32.532Z"
   },
   {
    "duration": 124,
    "start_time": "2024-04-29T11:50:35.097Z"
   },
   {
    "duration": 166,
    "start_time": "2024-04-29T11:51:39.038Z"
   },
   {
    "duration": 136,
    "start_time": "2024-04-29T11:51:59.751Z"
   },
   {
    "duration": 317,
    "start_time": "2024-04-29T11:52:17.718Z"
   },
   {
    "duration": 255,
    "start_time": "2024-04-29T11:52:34.657Z"
   },
   {
    "duration": 259,
    "start_time": "2024-04-29T11:52:48.545Z"
   },
   {
    "duration": 266,
    "start_time": "2024-04-29T11:53:00.298Z"
   },
   {
    "duration": 170,
    "start_time": "2024-04-29T11:53:12.346Z"
   },
   {
    "duration": 160,
    "start_time": "2024-04-29T11:53:21.165Z"
   },
   {
    "duration": 148,
    "start_time": "2024-04-29T11:53:24.517Z"
   },
   {
    "duration": 448,
    "start_time": "2024-04-29T11:53:31.158Z"
   },
   {
    "duration": 285,
    "start_time": "2024-04-29T11:58:47.061Z"
   },
   {
    "duration": 276,
    "start_time": "2024-04-29T11:59:02.053Z"
   },
   {
    "duration": 47,
    "start_time": "2024-05-04T17:16:51.272Z"
   },
   {
    "duration": 847,
    "start_time": "2024-05-04T17:16:58.590Z"
   },
   {
    "duration": 219,
    "start_time": "2024-05-04T17:16:59.440Z"
   },
   {
    "duration": 18,
    "start_time": "2024-05-04T17:16:59.660Z"
   },
   {
    "duration": 8,
    "start_time": "2024-05-04T17:16:59.681Z"
   },
   {
    "duration": 6,
    "start_time": "2024-05-04T17:16:59.690Z"
   },
   {
    "duration": 16,
    "start_time": "2024-05-04T17:16:59.698Z"
   },
   {
    "duration": 20,
    "start_time": "2024-05-04T17:16:59.715Z"
   },
   {
    "duration": 10,
    "start_time": "2024-05-04T17:16:59.736Z"
   },
   {
    "duration": 187,
    "start_time": "2024-05-04T17:16:59.765Z"
   },
   {
    "duration": 125,
    "start_time": "2024-05-04T17:16:59.953Z"
   },
   {
    "duration": 141,
    "start_time": "2024-05-04T17:17:00.080Z"
   },
   {
    "duration": 355,
    "start_time": "2024-05-04T17:17:00.223Z"
   },
   {
    "duration": 201,
    "start_time": "2024-05-04T17:17:00.580Z"
   },
   {
    "duration": 29,
    "start_time": "2024-05-04T17:17:00.784Z"
   },
   {
    "duration": 33,
    "start_time": "2024-05-04T17:17:00.815Z"
   },
   {
    "duration": 48,
    "start_time": "2024-05-04T17:17:00.850Z"
   },
   {
    "duration": 345,
    "start_time": "2024-05-04T17:17:00.900Z"
   },
   {
    "duration": 304,
    "start_time": "2024-05-04T17:17:01.246Z"
   },
   {
    "duration": 3,
    "start_time": "2024-05-04T17:17:01.552Z"
   },
   {
    "duration": 104,
    "start_time": "2024-05-04T17:23:05.484Z"
   },
   {
    "duration": 8,
    "start_time": "2024-05-04T17:23:09.016Z"
   },
   {
    "duration": 9,
    "start_time": "2024-05-04T17:24:14.326Z"
   },
   {
    "duration": 11,
    "start_time": "2024-05-04T17:24:31.865Z"
   },
   {
    "duration": 7,
    "start_time": "2024-05-04T17:25:30.654Z"
   },
   {
    "duration": 8,
    "start_time": "2024-05-04T17:25:42.847Z"
   },
   {
    "duration": 8,
    "start_time": "2024-05-04T17:27:20.722Z"
   },
   {
    "duration": 20,
    "start_time": "2024-05-04T17:31:13.829Z"
   },
   {
    "duration": 61,
    "start_time": "2024-05-04T17:31:22.958Z"
   },
   {
    "duration": 15,
    "start_time": "2024-05-04T17:31:37.926Z"
   },
   {
    "duration": 24,
    "start_time": "2024-05-04T17:32:09.452Z"
   },
   {
    "duration": 16,
    "start_time": "2024-05-04T17:32:29.141Z"
   },
   {
    "duration": 169,
    "start_time": "2024-05-04T17:34:37.981Z"
   },
   {
    "duration": 71,
    "start_time": "2024-05-04T17:34:52.076Z"
   },
   {
    "duration": 85,
    "start_time": "2024-05-04T17:36:14.328Z"
   },
   {
    "duration": 16,
    "start_time": "2024-05-04T17:36:58.172Z"
   },
   {
    "duration": 33,
    "start_time": "2024-05-04T17:37:06.059Z"
   },
   {
    "duration": 21,
    "start_time": "2024-05-04T17:37:56.175Z"
   },
   {
    "duration": 25,
    "start_time": "2024-05-04T17:38:09.789Z"
   },
   {
    "duration": 2746,
    "start_time": "2024-05-04T17:38:28.375Z"
   },
   {
    "duration": 18,
    "start_time": "2024-05-04T17:38:55.214Z"
   },
   {
    "duration": 19,
    "start_time": "2024-05-04T17:39:12.979Z"
   },
   {
    "duration": 4,
    "start_time": "2024-05-04T17:41:34.480Z"
   },
   {
    "duration": 3,
    "start_time": "2024-05-04T17:42:07.928Z"
   },
   {
    "duration": 10,
    "start_time": "2024-05-04T18:07:17.518Z"
   },
   {
    "duration": 9,
    "start_time": "2024-05-04T18:09:11.632Z"
   },
   {
    "duration": 35,
    "start_time": "2024-05-04T18:09:36.259Z"
   },
   {
    "duration": 27,
    "start_time": "2024-05-04T18:10:27.780Z"
   },
   {
    "duration": 693,
    "start_time": "2024-05-04T18:11:28.900Z"
   },
   {
    "duration": 3179,
    "start_time": "2024-05-04T18:12:49.345Z"
   },
   {
    "duration": 3264,
    "start_time": "2024-05-04T18:13:08.156Z"
   },
   {
    "duration": 3,
    "start_time": "2024-05-04T18:15:16.227Z"
   },
   {
    "duration": 972,
    "start_time": "2024-05-04T18:16:01.888Z"
   },
   {
    "duration": 2069,
    "start_time": "2024-05-04T18:16:20.081Z"
   },
   {
    "duration": 2073,
    "start_time": "2024-05-04T18:16:28.748Z"
   },
   {
    "duration": 4,
    "start_time": "2024-05-04T18:18:17.415Z"
   },
   {
    "duration": 11,
    "start_time": "2024-05-04T18:18:51.379Z"
   },
   {
    "duration": 11,
    "start_time": "2024-05-04T18:19:07.878Z"
   },
   {
    "duration": 10,
    "start_time": "2024-05-04T18:19:23.761Z"
   },
   {
    "duration": 10,
    "start_time": "2024-05-04T18:19:35.192Z"
   },
   {
    "duration": 11,
    "start_time": "2024-05-04T18:21:02.911Z"
   },
   {
    "duration": 3,
    "start_time": "2024-05-04T18:21:35.881Z"
   },
   {
    "duration": 11,
    "start_time": "2024-05-04T18:21:44.668Z"
   },
   {
    "duration": 8,
    "start_time": "2024-05-04T18:22:04.049Z"
   },
   {
    "duration": 9,
    "start_time": "2024-05-04T18:22:15.135Z"
   },
   {
    "duration": 10,
    "start_time": "2024-05-04T18:24:52.858Z"
   },
   {
    "duration": 7,
    "start_time": "2024-05-04T18:25:21.670Z"
   },
   {
    "duration": 925,
    "start_time": "2024-05-04T18:26:06.329Z"
   },
   {
    "duration": 62,
    "start_time": "2024-05-04T18:32:20.282Z"
   },
   {
    "duration": 3,
    "start_time": "2024-05-04T18:33:25.846Z"
   },
   {
    "duration": 4,
    "start_time": "2024-05-04T18:41:40.451Z"
   },
   {
    "duration": 5,
    "start_time": "2024-05-04T18:41:55.742Z"
   },
   {
    "duration": 7,
    "start_time": "2024-05-04T18:42:03.080Z"
   },
   {
    "duration": 10,
    "start_time": "2024-05-04T18:42:27.672Z"
   },
   {
    "duration": 7,
    "start_time": "2024-05-04T18:43:00.688Z"
   },
   {
    "duration": 11,
    "start_time": "2024-05-04T18:43:17.184Z"
   },
   {
    "duration": 6,
    "start_time": "2024-05-04T18:43:25.689Z"
   },
   {
    "duration": 23,
    "start_time": "2024-05-04T18:51:40.354Z"
   },
   {
    "duration": 21,
    "start_time": "2024-05-04T18:52:55.596Z"
   },
   {
    "duration": 14,
    "start_time": "2024-05-04T18:53:02.555Z"
   },
   {
    "duration": 600,
    "start_time": "2024-05-04T18:53:35.246Z"
   },
   {
    "duration": 27,
    "start_time": "2024-05-04T18:53:42.751Z"
   },
   {
    "duration": 23,
    "start_time": "2024-05-04T19:00:32.877Z"
   },
   {
    "duration": 23,
    "start_time": "2024-05-04T19:01:31.953Z"
   },
   {
    "duration": 470,
    "start_time": "2024-05-04T19:03:41.600Z"
   },
   {
    "duration": 8,
    "start_time": "2024-05-04T19:08:07.400Z"
   },
   {
    "duration": 48,
    "start_time": "2024-05-04T19:08:31.120Z"
   },
   {
    "duration": 11,
    "start_time": "2024-05-04T19:08:33.966Z"
   },
   {
    "duration": 40770,
    "start_time": "2024-05-04T19:08:41.380Z"
   },
   {
    "duration": 30,
    "start_time": "2024-05-04T19:10:41.624Z"
   },
   {
    "duration": 7,
    "start_time": "2024-05-04T19:11:12.711Z"
   },
   {
    "duration": 102,
    "start_time": "2024-05-04T19:11:29.302Z"
   },
   {
    "duration": 10,
    "start_time": "2024-05-04T19:12:05.571Z"
   },
   {
    "duration": 54,
    "start_time": "2024-05-04T19:12:21.000Z"
   },
   {
    "duration": 8,
    "start_time": "2024-05-04T19:12:24.906Z"
   },
   {
    "duration": 11,
    "start_time": "2024-05-04T19:12:35.912Z"
   },
   {
    "duration": 30,
    "start_time": "2024-05-04T19:13:37.265Z"
   },
   {
    "duration": 25,
    "start_time": "2024-05-04T19:14:30.295Z"
   },
   {
    "duration": 24,
    "start_time": "2024-05-04T19:15:32.756Z"
   },
   {
    "duration": 16,
    "start_time": "2024-05-04T19:15:50.145Z"
   },
   {
    "duration": 17,
    "start_time": "2024-05-04T19:16:16.046Z"
   },
   {
    "duration": 37,
    "start_time": "2024-05-04T19:16:37.985Z"
   },
   {
    "duration": 28,
    "start_time": "2024-05-04T19:17:22.452Z"
   },
   {
    "duration": 746,
    "start_time": "2024-05-04T19:19:32.670Z"
   },
   {
    "duration": 18,
    "start_time": "2024-05-04T19:20:03.752Z"
   },
   {
    "duration": 27,
    "start_time": "2024-05-04T19:20:17.058Z"
   },
   {
    "duration": 42,
    "start_time": "2024-05-04T19:22:08.511Z"
   },
   {
    "duration": 649,
    "start_time": "2024-05-04T19:22:31.775Z"
   },
   {
    "duration": 693,
    "start_time": "2024-05-04T19:22:59.716Z"
   },
   {
    "duration": 581,
    "start_time": "2024-05-04T19:23:18.751Z"
   },
   {
    "duration": 24,
    "start_time": "2024-05-04T19:23:33.284Z"
   },
   {
    "duration": 29,
    "start_time": "2024-05-04T19:24:18.515Z"
   },
   {
    "duration": 17,
    "start_time": "2024-05-04T19:24:31.197Z"
   },
   {
    "duration": 37,
    "start_time": "2024-05-04T19:24:45.860Z"
   },
   {
    "duration": 30,
    "start_time": "2024-05-04T19:25:26.859Z"
   },
   {
    "duration": 29,
    "start_time": "2024-05-04T19:28:03.505Z"
   },
   {
    "duration": 32,
    "start_time": "2024-05-04T19:28:42.940Z"
   },
   {
    "duration": 33,
    "start_time": "2024-05-04T19:29:05.641Z"
   },
   {
    "duration": 49,
    "start_time": "2024-05-05T16:42:28.818Z"
   },
   {
    "duration": 766,
    "start_time": "2024-05-05T16:42:34.589Z"
   },
   {
    "duration": 213,
    "start_time": "2024-05-05T16:42:35.358Z"
   },
   {
    "duration": 12,
    "start_time": "2024-05-05T16:42:35.572Z"
   },
   {
    "duration": 9,
    "start_time": "2024-05-05T16:42:35.585Z"
   },
   {
    "duration": 15,
    "start_time": "2024-05-05T16:42:35.596Z"
   },
   {
    "duration": 13,
    "start_time": "2024-05-05T16:42:35.613Z"
   },
   {
    "duration": 24,
    "start_time": "2024-05-05T16:42:35.627Z"
   },
   {
    "duration": 14,
    "start_time": "2024-05-05T16:42:35.652Z"
   },
   {
    "duration": 187,
    "start_time": "2024-05-05T16:42:35.668Z"
   },
   {
    "duration": 119,
    "start_time": "2024-05-05T16:42:35.860Z"
   },
   {
    "duration": 156,
    "start_time": "2024-05-05T16:42:35.981Z"
   },
   {
    "duration": 383,
    "start_time": "2024-05-05T16:42:36.139Z"
   },
   {
    "duration": 219,
    "start_time": "2024-05-05T16:42:36.524Z"
   },
   {
    "duration": 36,
    "start_time": "2024-05-05T16:42:36.747Z"
   },
   {
    "duration": 22,
    "start_time": "2024-05-05T16:42:36.784Z"
   },
   {
    "duration": 19,
    "start_time": "2024-05-05T16:42:36.807Z"
   },
   {
    "duration": 326,
    "start_time": "2024-05-05T16:42:36.827Z"
   },
   {
    "duration": 298,
    "start_time": "2024-05-05T16:42:37.154Z"
   },
   {
    "duration": 4501,
    "start_time": "2024-05-05T16:42:37.460Z"
   },
   {
    "duration": 34,
    "start_time": "2024-05-05T16:44:01.376Z"
   },
   {
    "duration": 5,
    "start_time": "2024-05-05T16:51:23.727Z"
   },
   {
    "duration": 532,
    "start_time": "2024-05-05T16:55:29.925Z"
   },
   {
    "duration": 110,
    "start_time": "2024-05-05T16:58:37.873Z"
   },
   {
    "duration": 7,
    "start_time": "2024-05-05T16:58:49.121Z"
   },
   {
    "duration": 5,
    "start_time": "2024-05-05T16:58:55.173Z"
   },
   {
    "duration": 12,
    "start_time": "2024-05-05T16:59:13.626Z"
   },
   {
    "duration": 12,
    "start_time": "2024-05-05T16:59:17.470Z"
   },
   {
    "duration": 5,
    "start_time": "2024-05-05T16:59:23.593Z"
   },
   {
    "duration": 5,
    "start_time": "2024-05-05T16:59:29.220Z"
   },
   {
    "duration": 5,
    "start_time": "2024-05-05T17:01:25.926Z"
   },
   {
    "duration": 7,
    "start_time": "2024-05-05T17:05:23.122Z"
   },
   {
    "duration": 21,
    "start_time": "2024-05-05T17:07:37.523Z"
   },
   {
    "duration": 17,
    "start_time": "2024-05-05T17:07:50.724Z"
   },
   {
    "duration": 39,
    "start_time": "2024-05-05T17:08:41.462Z"
   },
   {
    "duration": 32,
    "start_time": "2024-05-05T17:09:27.790Z"
   },
   {
    "duration": 24,
    "start_time": "2024-05-05T17:09:50.874Z"
   },
   {
    "duration": 37,
    "start_time": "2024-05-05T17:12:04.122Z"
   },
   {
    "duration": 1054,
    "start_time": "2024-05-05T17:24:40.698Z"
   },
   {
    "duration": 75,
    "start_time": "2024-05-05T17:24:41.754Z"
   },
   {
    "duration": 14,
    "start_time": "2024-05-05T17:24:41.834Z"
   },
   {
    "duration": 9,
    "start_time": "2024-05-05T17:24:41.850Z"
   },
   {
    "duration": 16,
    "start_time": "2024-05-05T17:24:41.860Z"
   },
   {
    "duration": 11,
    "start_time": "2024-05-05T17:24:41.878Z"
   },
   {
    "duration": 23,
    "start_time": "2024-05-05T17:24:41.891Z"
   },
   {
    "duration": 10,
    "start_time": "2024-05-05T17:24:41.915Z"
   },
   {
    "duration": 213,
    "start_time": "2024-05-05T17:24:41.927Z"
   },
   {
    "duration": 127,
    "start_time": "2024-05-05T17:24:42.141Z"
   },
   {
    "duration": 189,
    "start_time": "2024-05-05T17:24:42.270Z"
   },
   {
    "duration": 333,
    "start_time": "2024-05-05T17:24:42.462Z"
   },
   {
    "duration": 231,
    "start_time": "2024-05-05T17:24:42.798Z"
   },
   {
    "duration": 32,
    "start_time": "2024-05-05T17:24:43.031Z"
   },
   {
    "duration": 36,
    "start_time": "2024-05-05T17:24:43.065Z"
   },
   {
    "duration": 25,
    "start_time": "2024-05-05T17:24:43.102Z"
   },
   {
    "duration": 388,
    "start_time": "2024-05-05T17:24:43.128Z"
   },
   {
    "duration": 349,
    "start_time": "2024-05-05T17:24:43.517Z"
   },
   {
    "duration": 56,
    "start_time": "2024-05-05T17:24:43.868Z"
   },
   {
    "duration": 4,
    "start_time": "2024-05-05T17:24:43.928Z"
   },
   {
    "duration": 6,
    "start_time": "2024-05-05T17:24:43.934Z"
   },
   {
    "duration": 154,
    "start_time": "2024-05-05T17:24:43.942Z"
   },
   {
    "duration": 17,
    "start_time": "2024-05-05T17:45:26.012Z"
   },
   {
    "duration": 18,
    "start_time": "2024-05-05T17:48:27.819Z"
   },
   {
    "duration": 4,
    "start_time": "2024-05-05T17:54:14.421Z"
   },
   {
    "duration": 6,
    "start_time": "2024-05-05T17:54:23.372Z"
   },
   {
    "duration": 4,
    "start_time": "2024-05-05T17:54:26.420Z"
   },
   {
    "duration": 5,
    "start_time": "2024-05-05T17:54:30.676Z"
   },
   {
    "duration": 4,
    "start_time": "2024-05-05T17:54:33.053Z"
   },
   {
    "duration": 5,
    "start_time": "2024-05-05T17:54:39.548Z"
   },
   {
    "duration": 4,
    "start_time": "2024-05-05T17:54:43.492Z"
   },
   {
    "duration": 1182,
    "start_time": "2024-05-05T17:58:13.790Z"
   },
   {
    "duration": 73,
    "start_time": "2024-05-05T17:58:14.974Z"
   },
   {
    "duration": 12,
    "start_time": "2024-05-05T17:58:15.048Z"
   },
   {
    "duration": 29,
    "start_time": "2024-05-05T17:58:15.061Z"
   },
   {
    "duration": 40,
    "start_time": "2024-05-05T17:58:15.093Z"
   },
   {
    "duration": 32,
    "start_time": "2024-05-05T17:58:15.134Z"
   },
   {
    "duration": 47,
    "start_time": "2024-05-05T17:58:15.167Z"
   },
   {
    "duration": 38,
    "start_time": "2024-05-05T17:58:15.216Z"
   },
   {
    "duration": 194,
    "start_time": "2024-05-05T17:58:15.255Z"
   },
   {
    "duration": 122,
    "start_time": "2024-05-05T17:58:15.451Z"
   },
   {
    "duration": 167,
    "start_time": "2024-05-05T17:58:15.575Z"
   },
   {
    "duration": 330,
    "start_time": "2024-05-05T17:58:15.744Z"
   },
   {
    "duration": 238,
    "start_time": "2024-05-05T17:58:16.075Z"
   },
   {
    "duration": 41,
    "start_time": "2024-05-05T17:58:16.316Z"
   },
   {
    "duration": 38,
    "start_time": "2024-05-05T17:58:16.359Z"
   },
   {
    "duration": 26,
    "start_time": "2024-05-05T17:58:16.399Z"
   },
   {
    "duration": 401,
    "start_time": "2024-05-05T17:58:16.427Z"
   },
   {
    "duration": 329,
    "start_time": "2024-05-05T17:58:16.829Z"
   },
   {
    "duration": 41,
    "start_time": "2024-05-05T17:58:17.160Z"
   },
   {
    "duration": 4,
    "start_time": "2024-05-05T17:58:17.203Z"
   },
   {
    "duration": 4,
    "start_time": "2024-05-05T17:58:17.208Z"
   },
   {
    "duration": 136,
    "start_time": "2024-05-05T17:58:17.214Z"
   },
   {
    "duration": 1189,
    "start_time": "2024-05-05T18:00:03.265Z"
   },
   {
    "duration": 71,
    "start_time": "2024-05-05T18:00:04.456Z"
   },
   {
    "duration": 13,
    "start_time": "2024-05-05T18:00:04.529Z"
   },
   {
    "duration": 9,
    "start_time": "2024-05-05T18:00:04.544Z"
   },
   {
    "duration": 10,
    "start_time": "2024-05-05T18:00:04.555Z"
   },
   {
    "duration": 12,
    "start_time": "2024-05-05T18:00:04.566Z"
   },
   {
    "duration": 22,
    "start_time": "2024-05-05T18:00:04.580Z"
   },
   {
    "duration": 10,
    "start_time": "2024-05-05T18:00:04.604Z"
   },
   {
    "duration": 203,
    "start_time": "2024-05-05T18:00:04.615Z"
   },
   {
    "duration": 133,
    "start_time": "2024-05-05T18:00:04.820Z"
   },
   {
    "duration": 172,
    "start_time": "2024-05-05T18:00:04.955Z"
   },
   {
    "duration": 353,
    "start_time": "2024-05-05T18:00:05.129Z"
   },
   {
    "duration": 254,
    "start_time": "2024-05-05T18:00:05.484Z"
   },
   {
    "duration": 32,
    "start_time": "2024-05-05T18:00:05.740Z"
   },
   {
    "duration": 23,
    "start_time": "2024-05-05T18:00:05.782Z"
   },
   {
    "duration": 31,
    "start_time": "2024-05-05T18:00:05.807Z"
   },
   {
    "duration": 390,
    "start_time": "2024-05-05T18:00:05.840Z"
   },
   {
    "duration": 324,
    "start_time": "2024-05-05T18:00:06.232Z"
   },
   {
    "duration": 41,
    "start_time": "2024-05-05T18:00:06.558Z"
   },
   {
    "duration": 3,
    "start_time": "2024-05-05T18:00:06.601Z"
   },
   {
    "duration": 5,
    "start_time": "2024-05-05T18:00:06.606Z"
   },
   {
    "duration": 140,
    "start_time": "2024-05-05T18:00:06.613Z"
   },
   {
    "duration": 51,
    "start_time": "2024-05-06T08:36:15.266Z"
   },
   {
    "duration": 1305,
    "start_time": "2024-05-06T08:36:20.395Z"
   },
   {
    "duration": 294,
    "start_time": "2024-05-06T08:36:21.702Z"
   },
   {
    "duration": 12,
    "start_time": "2024-05-06T08:36:21.998Z"
   },
   {
    "duration": 21,
    "start_time": "2024-05-06T08:36:22.012Z"
   },
   {
    "duration": 20,
    "start_time": "2024-05-06T08:36:22.036Z"
   },
   {
    "duration": 17,
    "start_time": "2024-05-06T08:36:22.058Z"
   },
   {
    "duration": 21,
    "start_time": "2024-05-06T08:36:22.077Z"
   },
   {
    "duration": 11,
    "start_time": "2024-05-06T08:36:22.101Z"
   },
   {
    "duration": 207,
    "start_time": "2024-05-06T08:36:22.113Z"
   },
   {
    "duration": 128,
    "start_time": "2024-05-06T08:36:22.321Z"
   },
   {
    "duration": 176,
    "start_time": "2024-05-06T08:36:22.451Z"
   },
   {
    "duration": 331,
    "start_time": "2024-05-06T08:36:22.628Z"
   },
   {
    "duration": 233,
    "start_time": "2024-05-06T08:36:22.960Z"
   },
   {
    "duration": 33,
    "start_time": "2024-05-06T08:36:23.196Z"
   },
   {
    "duration": 40,
    "start_time": "2024-05-06T08:36:23.230Z"
   },
   {
    "duration": 20,
    "start_time": "2024-05-06T08:36:23.273Z"
   },
   {
    "duration": 388,
    "start_time": "2024-05-06T08:36:23.295Z"
   },
   {
    "duration": 365,
    "start_time": "2024-05-06T08:36:23.685Z"
   },
   {
    "duration": 45,
    "start_time": "2024-05-06T08:36:24.052Z"
   },
   {
    "duration": 4,
    "start_time": "2024-05-06T08:36:24.099Z"
   },
   {
    "duration": 14,
    "start_time": "2024-05-06T08:36:24.104Z"
   },
   {
    "duration": 130,
    "start_time": "2024-05-06T08:36:24.120Z"
   },
   {
    "duration": 29,
    "start_time": "2024-05-06T08:40:14.902Z"
   },
   {
    "duration": 3,
    "start_time": "2024-05-06T08:41:05.380Z"
   },
   {
    "duration": 29,
    "start_time": "2024-05-06T08:41:14.892Z"
   },
   {
    "duration": 16,
    "start_time": "2024-05-06T08:57:56.921Z"
   },
   {
    "duration": 15,
    "start_time": "2024-05-06T08:58:29.050Z"
   },
   {
    "duration": 15,
    "start_time": "2024-05-06T08:58:43.189Z"
   },
   {
    "duration": 187,
    "start_time": "2024-05-06T08:59:59.265Z"
   },
   {
    "duration": 178,
    "start_time": "2024-05-06T09:00:38.291Z"
   },
   {
    "duration": 186,
    "start_time": "2024-05-06T09:01:08.566Z"
   },
   {
    "duration": 125,
    "start_time": "2024-05-06T09:03:29.820Z"
   },
   {
    "duration": 126,
    "start_time": "2024-05-06T09:03:48.183Z"
   },
   {
    "duration": 78,
    "start_time": "2024-05-06T09:04:26.952Z"
   },
   {
    "duration": 126,
    "start_time": "2024-05-06T09:05:04.462Z"
   },
   {
    "duration": 123,
    "start_time": "2024-05-06T09:05:30.027Z"
   },
   {
    "duration": 160,
    "start_time": "2024-05-06T09:06:20.445Z"
   },
   {
    "duration": 417,
    "start_time": "2024-05-06T09:07:00.726Z"
   },
   {
    "duration": 324,
    "start_time": "2024-05-06T09:07:05.449Z"
   },
   {
    "duration": 321,
    "start_time": "2024-05-06T09:07:08.601Z"
   },
   {
    "duration": 226,
    "start_time": "2024-05-06T09:07:43.354Z"
   },
   {
    "duration": 313,
    "start_time": "2024-05-06T09:07:51.940Z"
   },
   {
    "duration": 27,
    "start_time": "2024-05-06T09:08:16.710Z"
   },
   {
    "duration": 23,
    "start_time": "2024-05-06T09:08:34.172Z"
   },
   {
    "duration": 22,
    "start_time": "2024-05-06T09:08:39.758Z"
   },
   {
    "duration": 18,
    "start_time": "2024-05-06T09:09:08.269Z"
   },
   {
    "duration": 17,
    "start_time": "2024-05-06T09:09:45.928Z"
   },
   {
    "duration": 18,
    "start_time": "2024-05-06T09:10:00.435Z"
   },
   {
    "duration": 89,
    "start_time": "2024-05-06T09:13:13.562Z"
   },
   {
    "duration": 1102,
    "start_time": "2024-05-06T09:15:16.865Z"
   },
   {
    "duration": 1606,
    "start_time": "2024-05-06T09:18:04.182Z"
   },
   {
    "duration": 1623,
    "start_time": "2024-05-06T09:19:20.371Z"
   },
   {
    "duration": 56,
    "start_time": "2024-05-06T09:19:38.679Z"
   },
   {
    "duration": 45,
    "start_time": "2024-05-06T09:20:00.661Z"
   },
   {
    "duration": 45,
    "start_time": "2024-05-06T09:20:43.656Z"
   },
   {
    "duration": 47,
    "start_time": "2024-05-06T09:20:53.493Z"
   },
   {
    "duration": 25,
    "start_time": "2024-05-06T09:23:03.968Z"
   },
   {
    "duration": 25,
    "start_time": "2024-05-06T09:23:30.042Z"
   },
   {
    "duration": 23,
    "start_time": "2024-05-06T09:23:41.137Z"
   },
   {
    "duration": 4,
    "start_time": "2024-05-06T09:26:06.975Z"
   },
   {
    "duration": 5,
    "start_time": "2024-05-06T09:28:17.747Z"
   },
   {
    "duration": 27,
    "start_time": "2024-05-06T09:30:20.498Z"
   },
   {
    "duration": 31,
    "start_time": "2024-05-06T09:30:42.605Z"
   },
   {
    "duration": 99,
    "start_time": "2024-05-06T09:31:13.134Z"
   },
   {
    "duration": 84,
    "start_time": "2024-05-06T09:31:58.909Z"
   },
   {
    "duration": 75,
    "start_time": "2024-05-06T09:32:10.075Z"
   },
   {
    "duration": 22,
    "start_time": "2024-05-06T09:32:25.476Z"
   },
   {
    "duration": 70,
    "start_time": "2024-05-06T09:33:47.551Z"
   },
   {
    "duration": 28,
    "start_time": "2024-05-06T09:34:35.455Z"
   },
   {
    "duration": 26,
    "start_time": "2024-05-06T09:34:45.745Z"
   },
   {
    "duration": 23,
    "start_time": "2024-05-06T09:35:14.926Z"
   },
   {
    "duration": 1153,
    "start_time": "2024-05-06T11:59:51.851Z"
   },
   {
    "duration": 209,
    "start_time": "2024-05-06T11:59:53.006Z"
   },
   {
    "duration": 13,
    "start_time": "2024-05-06T11:59:53.217Z"
   },
   {
    "duration": 93,
    "start_time": "2024-05-06T11:59:53.231Z"
   },
   {
    "duration": 39,
    "start_time": "2024-05-06T11:59:53.326Z"
   },
   {
    "duration": 41,
    "start_time": "2024-05-06T11:59:53.366Z"
   },
   {
    "duration": 58,
    "start_time": "2024-05-06T11:59:53.409Z"
   },
   {
    "duration": 18,
    "start_time": "2024-05-06T11:59:53.469Z"
   },
   {
    "duration": 215,
    "start_time": "2024-05-06T11:59:53.489Z"
   },
   {
    "duration": 144,
    "start_time": "2024-05-06T11:59:53.705Z"
   },
   {
    "duration": 183,
    "start_time": "2024-05-06T11:59:53.851Z"
   },
   {
    "duration": 340,
    "start_time": "2024-05-06T11:59:54.036Z"
   },
   {
    "duration": 223,
    "start_time": "2024-05-06T11:59:54.378Z"
   },
   {
    "duration": 29,
    "start_time": "2024-05-06T11:59:54.605Z"
   },
   {
    "duration": 28,
    "start_time": "2024-05-06T11:59:54.636Z"
   },
   {
    "duration": 21,
    "start_time": "2024-05-06T11:59:54.666Z"
   },
   {
    "duration": 435,
    "start_time": "2024-05-06T11:59:54.689Z"
   },
   {
    "duration": 352,
    "start_time": "2024-05-06T11:59:55.125Z"
   },
   {
    "duration": 57,
    "start_time": "2024-05-06T11:59:55.478Z"
   },
   {
    "duration": 162,
    "start_time": "2024-05-06T11:59:55.537Z"
   },
   {
    "duration": 5,
    "start_time": "2024-05-06T11:59:55.701Z"
   },
   {
    "duration": 75,
    "start_time": "2024-05-06T11:59:55.708Z"
   },
   {
    "duration": 186,
    "start_time": "2024-05-06T14:02:59.767Z"
   },
   {
    "duration": 208,
    "start_time": "2024-05-06T14:05:16.672Z"
   },
   {
    "duration": 19,
    "start_time": "2024-05-06T14:10:26.238Z"
   },
   {
    "duration": 17,
    "start_time": "2024-05-06T14:10:36.097Z"
   },
   {
    "duration": 24,
    "start_time": "2024-05-06T14:13:37.087Z"
   },
   {
    "duration": 39,
    "start_time": "2024-05-06T14:13:42.123Z"
   },
   {
    "duration": 13,
    "start_time": "2024-05-06T14:16:44.244Z"
   },
   {
    "duration": 1137,
    "start_time": "2024-05-06T14:21:43.995Z"
   },
   {
    "duration": 72,
    "start_time": "2024-05-06T14:21:45.134Z"
   },
   {
    "duration": 12,
    "start_time": "2024-05-06T14:21:45.208Z"
   },
   {
    "duration": 38,
    "start_time": "2024-05-06T14:21:45.222Z"
   },
   {
    "duration": 39,
    "start_time": "2024-05-06T14:21:45.264Z"
   },
   {
    "duration": 33,
    "start_time": "2024-05-06T14:21:45.305Z"
   },
   {
    "duration": 50,
    "start_time": "2024-05-06T14:21:45.340Z"
   },
   {
    "duration": 50,
    "start_time": "2024-05-06T14:21:45.392Z"
   },
   {
    "duration": 240,
    "start_time": "2024-05-06T14:21:45.444Z"
   },
   {
    "duration": 143,
    "start_time": "2024-05-06T14:21:45.686Z"
   },
   {
    "duration": 179,
    "start_time": "2024-05-06T14:21:45.831Z"
   },
   {
    "duration": 357,
    "start_time": "2024-05-06T14:21:46.012Z"
   },
   {
    "duration": 231,
    "start_time": "2024-05-06T14:21:46.371Z"
   },
   {
    "duration": 25,
    "start_time": "2024-05-06T14:21:46.605Z"
   },
   {
    "duration": 27,
    "start_time": "2024-05-06T14:21:46.632Z"
   },
   {
    "duration": 21,
    "start_time": "2024-05-06T14:21:46.661Z"
   },
   {
    "duration": 429,
    "start_time": "2024-05-06T14:21:46.684Z"
   },
   {
    "duration": 337,
    "start_time": "2024-05-06T14:21:47.115Z"
   },
   {
    "duration": 75,
    "start_time": "2024-05-06T14:21:47.454Z"
   },
   {
    "duration": 143,
    "start_time": "2024-05-06T14:21:47.536Z"
   },
   {
    "duration": 5,
    "start_time": "2024-05-06T14:21:47.680Z"
   },
   {
    "duration": 32,
    "start_time": "2024-05-06T14:21:47.687Z"
   },
   {
    "duration": 50,
    "start_time": "2024-05-06T17:41:20.446Z"
   },
   {
    "duration": 1393,
    "start_time": "2024-05-06T17:42:00.232Z"
   },
   {
    "duration": 212,
    "start_time": "2024-05-06T17:42:01.628Z"
   },
   {
    "duration": 12,
    "start_time": "2024-05-06T17:42:01.842Z"
   },
   {
    "duration": 45,
    "start_time": "2024-05-06T17:42:01.855Z"
   },
   {
    "duration": 53,
    "start_time": "2024-05-06T17:42:01.902Z"
   },
   {
    "duration": 123,
    "start_time": "2024-05-06T17:42:01.958Z"
   },
   {
    "duration": 63,
    "start_time": "2024-05-06T17:42:02.083Z"
   },
   {
    "duration": 142,
    "start_time": "2024-05-06T17:42:02.148Z"
   },
   {
    "duration": 217,
    "start_time": "2024-05-06T17:42:02.292Z"
   },
   {
    "duration": 131,
    "start_time": "2024-05-06T17:42:02.511Z"
   },
   {
    "duration": 167,
    "start_time": "2024-05-06T17:42:02.644Z"
   },
   {
    "duration": 324,
    "start_time": "2024-05-06T17:42:02.813Z"
   },
   {
    "duration": 220,
    "start_time": "2024-05-06T17:42:03.139Z"
   },
   {
    "duration": 17,
    "start_time": "2024-05-06T17:42:03.361Z"
   },
   {
    "duration": 62,
    "start_time": "2024-05-06T17:42:03.380Z"
   },
   {
    "duration": 19,
    "start_time": "2024-05-06T17:42:03.444Z"
   },
   {
    "duration": 532,
    "start_time": "2024-05-06T17:42:03.465Z"
   },
   {
    "duration": 326,
    "start_time": "2024-05-06T17:42:03.999Z"
   },
   {
    "duration": 47,
    "start_time": "2024-05-06T17:42:04.329Z"
   },
   {
    "duration": 132,
    "start_time": "2024-05-06T17:42:04.378Z"
   },
   {
    "duration": 5,
    "start_time": "2024-05-06T17:42:04.511Z"
   },
   {
    "duration": 35,
    "start_time": "2024-05-06T17:42:04.518Z"
   },
   {
    "duration": 20,
    "start_time": "2024-05-06T17:59:22.234Z"
   },
   {
    "duration": 28,
    "start_time": "2024-05-06T17:59:29.641Z"
   },
   {
    "duration": 668,
    "start_time": "2024-05-06T18:02:47.162Z"
   },
   {
    "duration": 37,
    "start_time": "2024-05-06T18:06:47.655Z"
   },
   {
    "duration": 45,
    "start_time": "2024-05-06T18:06:56.514Z"
   },
   {
    "duration": 41,
    "start_time": "2024-05-06T18:08:55.234Z"
   },
   {
    "duration": 36,
    "start_time": "2024-05-06T18:09:13.740Z"
   },
   {
    "duration": 34,
    "start_time": "2024-05-06T18:09:18.669Z"
   },
   {
    "duration": 35,
    "start_time": "2024-05-06T18:09:27.228Z"
   },
   {
    "duration": 35,
    "start_time": "2024-05-06T18:09:56.352Z"
   },
   {
    "duration": 37,
    "start_time": "2024-05-06T18:10:35.823Z"
   },
   {
    "duration": 1226,
    "start_time": "2024-05-06T18:10:40.894Z"
   },
   {
    "duration": 70,
    "start_time": "2024-05-06T18:10:42.122Z"
   },
   {
    "duration": 12,
    "start_time": "2024-05-06T18:10:42.194Z"
   },
   {
    "duration": 21,
    "start_time": "2024-05-06T18:10:42.208Z"
   },
   {
    "duration": 13,
    "start_time": "2024-05-06T18:10:42.231Z"
   },
   {
    "duration": 17,
    "start_time": "2024-05-06T18:10:42.245Z"
   },
   {
    "duration": 22,
    "start_time": "2024-05-06T18:10:42.264Z"
   },
   {
    "duration": 15,
    "start_time": "2024-05-06T18:10:42.288Z"
   },
   {
    "duration": 227,
    "start_time": "2024-05-06T18:10:42.305Z"
   },
   {
    "duration": 141,
    "start_time": "2024-05-06T18:10:42.534Z"
   },
   {
    "duration": 189,
    "start_time": "2024-05-06T18:10:42.677Z"
   },
   {
    "duration": 334,
    "start_time": "2024-05-06T18:10:42.868Z"
   },
   {
    "duration": 239,
    "start_time": "2024-05-06T18:10:43.203Z"
   },
   {
    "duration": 19,
    "start_time": "2024-05-06T18:10:43.445Z"
   },
   {
    "duration": 24,
    "start_time": "2024-05-06T18:10:43.466Z"
   },
   {
    "duration": 46,
    "start_time": "2024-05-06T18:10:43.492Z"
   },
   {
    "duration": 420,
    "start_time": "2024-05-06T18:10:43.540Z"
   },
   {
    "duration": 358,
    "start_time": "2024-05-06T18:10:43.962Z"
   },
   {
    "duration": 41,
    "start_time": "2024-05-06T18:10:44.322Z"
   },
   {
    "duration": 125,
    "start_time": "2024-05-06T18:10:44.364Z"
   },
   {
    "duration": 5,
    "start_time": "2024-05-06T18:10:44.490Z"
   },
   {
    "duration": 11,
    "start_time": "2024-05-06T18:10:44.496Z"
   },
   {
    "duration": 1134,
    "start_time": "2024-05-06T18:11:51.288Z"
   },
   {
    "duration": 79,
    "start_time": "2024-05-06T18:11:52.424Z"
   },
   {
    "duration": 13,
    "start_time": "2024-05-06T18:11:52.504Z"
   },
   {
    "duration": 22,
    "start_time": "2024-05-06T18:11:52.518Z"
   },
   {
    "duration": 12,
    "start_time": "2024-05-06T18:11:52.543Z"
   },
   {
    "duration": 37,
    "start_time": "2024-05-06T18:11:52.557Z"
   },
   {
    "duration": 22,
    "start_time": "2024-05-06T18:11:52.596Z"
   },
   {
    "duration": 20,
    "start_time": "2024-05-06T18:11:52.620Z"
   },
   {
    "duration": 204,
    "start_time": "2024-05-06T18:11:52.642Z"
   },
   {
    "duration": 131,
    "start_time": "2024-05-06T18:11:52.848Z"
   },
   {
    "duration": 171,
    "start_time": "2024-05-06T18:11:52.981Z"
   },
   {
    "duration": 328,
    "start_time": "2024-05-06T18:11:53.154Z"
   },
   {
    "duration": 238,
    "start_time": "2024-05-06T18:11:53.484Z"
   },
   {
    "duration": 19,
    "start_time": "2024-05-06T18:11:53.728Z"
   },
   {
    "duration": 22,
    "start_time": "2024-05-06T18:11:53.748Z"
   },
   {
    "duration": 19,
    "start_time": "2024-05-06T18:11:53.772Z"
   },
   {
    "duration": 423,
    "start_time": "2024-05-06T18:11:53.793Z"
   },
   {
    "duration": 335,
    "start_time": "2024-05-06T18:11:54.218Z"
   },
   {
    "duration": 701,
    "start_time": "2024-05-06T18:11:54.554Z"
   },
   {
    "duration": 0,
    "start_time": "2024-05-06T18:11:55.257Z"
   },
   {
    "duration": 0,
    "start_time": "2024-05-06T18:11:55.258Z"
   },
   {
    "duration": 0,
    "start_time": "2024-05-06T18:11:55.260Z"
   },
   {
    "duration": 47,
    "start_time": "2024-05-06T18:12:18.891Z"
   },
   {
    "duration": 44,
    "start_time": "2024-05-06T18:15:23.378Z"
   },
   {
    "duration": 52,
    "start_time": "2024-05-06T18:16:24.263Z"
   },
   {
    "duration": 198,
    "start_time": "2024-05-06T18:19:30.327Z"
   },
   {
    "duration": 185,
    "start_time": "2024-05-06T18:20:29.786Z"
   },
   {
    "duration": 201,
    "start_time": "2024-05-06T18:20:51.849Z"
   },
   {
    "duration": 212,
    "start_time": "2024-05-06T18:21:03.773Z"
   },
   {
    "duration": 138,
    "start_time": "2024-05-06T18:22:31.350Z"
   },
   {
    "duration": 185,
    "start_time": "2024-05-06T18:23:41.145Z"
   },
   {
    "duration": 345,
    "start_time": "2024-05-06T18:24:04.057Z"
   },
   {
    "duration": 322,
    "start_time": "2024-05-06T18:24:12.312Z"
   },
   {
    "duration": 345,
    "start_time": "2024-05-06T18:24:56.754Z"
   },
   {
    "duration": 258,
    "start_time": "2024-05-06T18:26:08.658Z"
   },
   {
    "duration": 33,
    "start_time": "2024-05-06T18:26:40.730Z"
   },
   {
    "duration": 1182,
    "start_time": "2024-05-06T18:29:19.222Z"
   },
   {
    "duration": 70,
    "start_time": "2024-05-06T18:29:20.406Z"
   },
   {
    "duration": 12,
    "start_time": "2024-05-06T18:29:20.477Z"
   },
   {
    "duration": 25,
    "start_time": "2024-05-06T18:29:20.491Z"
   },
   {
    "duration": 10,
    "start_time": "2024-05-06T18:29:20.518Z"
   },
   {
    "duration": 46,
    "start_time": "2024-05-06T18:29:20.530Z"
   },
   {
    "duration": 25,
    "start_time": "2024-05-06T18:29:20.577Z"
   },
   {
    "duration": 25,
    "start_time": "2024-05-06T18:29:20.603Z"
   },
   {
    "duration": 258,
    "start_time": "2024-05-06T18:29:20.630Z"
   },
   {
    "duration": 147,
    "start_time": "2024-05-06T18:29:20.889Z"
   },
   {
    "duration": 212,
    "start_time": "2024-05-06T18:29:21.037Z"
   },
   {
    "duration": 413,
    "start_time": "2024-05-06T18:29:21.250Z"
   },
   {
    "duration": 248,
    "start_time": "2024-05-06T18:29:21.664Z"
   },
   {
    "duration": 35,
    "start_time": "2024-05-06T18:29:21.914Z"
   },
   {
    "duration": 23,
    "start_time": "2024-05-06T18:29:21.950Z"
   },
   {
    "duration": 19,
    "start_time": "2024-05-06T18:29:21.975Z"
   },
   {
    "duration": 406,
    "start_time": "2024-05-06T18:29:21.996Z"
   },
   {
    "duration": 330,
    "start_time": "2024-05-06T18:29:22.404Z"
   },
   {
    "duration": 53,
    "start_time": "2024-05-06T18:29:22.736Z"
   },
   {
    "duration": 145,
    "start_time": "2024-05-06T18:29:22.791Z"
   },
   {
    "duration": 12,
    "start_time": "2024-05-06T18:29:22.938Z"
   },
   {
    "duration": 49,
    "start_time": "2024-05-06T18:29:22.952Z"
   },
   {
    "duration": 1088,
    "start_time": "2024-05-06T21:38:41.419Z"
   },
   {
    "duration": 212,
    "start_time": "2024-05-06T21:38:42.509Z"
   },
   {
    "duration": 13,
    "start_time": "2024-05-06T21:38:42.726Z"
   },
   {
    "duration": 9,
    "start_time": "2024-05-06T21:38:42.740Z"
   },
   {
    "duration": 7,
    "start_time": "2024-05-06T21:38:42.751Z"
   },
   {
    "duration": 11,
    "start_time": "2024-05-06T21:38:42.759Z"
   },
   {
    "duration": 19,
    "start_time": "2024-05-06T21:38:42.772Z"
   },
   {
    "duration": 13,
    "start_time": "2024-05-06T21:38:42.793Z"
   },
   {
    "duration": 220,
    "start_time": "2024-05-06T21:38:42.809Z"
   },
   {
    "duration": 136,
    "start_time": "2024-05-06T21:38:43.031Z"
   },
   {
    "duration": 181,
    "start_time": "2024-05-06T21:38:43.168Z"
   },
   {
    "duration": 363,
    "start_time": "2024-05-06T21:38:43.350Z"
   },
   {
    "duration": 253,
    "start_time": "2024-05-06T21:38:43.715Z"
   },
   {
    "duration": 26,
    "start_time": "2024-05-06T21:38:43.970Z"
   },
   {
    "duration": 20,
    "start_time": "2024-05-06T21:38:43.997Z"
   },
   {
    "duration": 24,
    "start_time": "2024-05-06T21:38:44.018Z"
   },
   {
    "duration": 384,
    "start_time": "2024-05-06T21:38:44.043Z"
   },
   {
    "duration": 313,
    "start_time": "2024-05-06T21:38:44.429Z"
   },
   {
    "duration": 56,
    "start_time": "2024-05-06T21:38:44.744Z"
   },
   {
    "duration": 132,
    "start_time": "2024-05-06T21:38:44.802Z"
   },
   {
    "duration": 5,
    "start_time": "2024-05-06T21:38:44.935Z"
   },
   {
    "duration": 41,
    "start_time": "2024-05-06T21:38:44.942Z"
   },
   {
    "duration": 18,
    "start_time": "2024-05-06T21:41:47.807Z"
   },
   {
    "duration": 9,
    "start_time": "2024-05-06T21:41:54.822Z"
   },
   {
    "duration": 1146,
    "start_time": "2024-05-06T21:51:23.567Z"
   },
   {
    "duration": 69,
    "start_time": "2024-05-06T21:51:24.716Z"
   },
   {
    "duration": 12,
    "start_time": "2024-05-06T21:51:24.787Z"
   },
   {
    "duration": 8,
    "start_time": "2024-05-06T21:51:24.801Z"
   },
   {
    "duration": 6,
    "start_time": "2024-05-06T21:51:24.812Z"
   },
   {
    "duration": 22,
    "start_time": "2024-05-06T21:51:24.820Z"
   },
   {
    "duration": 28,
    "start_time": "2024-05-06T21:51:24.844Z"
   },
   {
    "duration": 16,
    "start_time": "2024-05-06T21:51:24.874Z"
   },
   {
    "duration": 234,
    "start_time": "2024-05-06T21:51:24.892Z"
   },
   {
    "duration": 145,
    "start_time": "2024-05-06T21:51:25.127Z"
   },
   {
    "duration": 218,
    "start_time": "2024-05-06T21:51:25.274Z"
   },
   {
    "duration": 369,
    "start_time": "2024-05-06T21:51:25.494Z"
   },
   {
    "duration": 260,
    "start_time": "2024-05-06T21:51:25.865Z"
   },
   {
    "duration": 34,
    "start_time": "2024-05-06T21:51:26.128Z"
   },
   {
    "duration": 30,
    "start_time": "2024-05-06T21:51:26.164Z"
   },
   {
    "duration": 20,
    "start_time": "2024-05-06T21:51:26.195Z"
   },
   {
    "duration": 398,
    "start_time": "2024-05-06T21:51:26.217Z"
   },
   {
    "duration": 327,
    "start_time": "2024-05-06T21:51:26.616Z"
   },
   {
    "duration": 73,
    "start_time": "2024-05-06T21:51:26.945Z"
   },
   {
    "duration": 10,
    "start_time": "2024-05-06T21:51:27.020Z"
   },
   {
    "duration": 153,
    "start_time": "2024-05-06T21:51:27.032Z"
   },
   {
    "duration": 5,
    "start_time": "2024-05-06T21:51:27.186Z"
   },
   {
    "duration": 21,
    "start_time": "2024-05-06T21:51:27.193Z"
   },
   {
    "duration": 1302,
    "start_time": "2024-05-07T14:56:40.485Z"
   },
   {
    "duration": 314,
    "start_time": "2024-05-07T14:56:41.789Z"
   },
   {
    "duration": 11,
    "start_time": "2024-05-07T14:56:42.104Z"
   },
   {
    "duration": 7,
    "start_time": "2024-05-07T14:56:42.117Z"
   },
   {
    "duration": 16,
    "start_time": "2024-05-07T14:56:42.126Z"
   },
   {
    "duration": 10,
    "start_time": "2024-05-07T14:56:42.143Z"
   },
   {
    "duration": 20,
    "start_time": "2024-05-07T14:56:42.155Z"
   },
   {
    "duration": 14,
    "start_time": "2024-05-07T14:56:42.176Z"
   },
   {
    "duration": 212,
    "start_time": "2024-05-07T14:56:42.191Z"
   },
   {
    "duration": 129,
    "start_time": "2024-05-07T14:56:42.405Z"
   },
   {
    "duration": 179,
    "start_time": "2024-05-07T14:56:42.536Z"
   },
   {
    "duration": 323,
    "start_time": "2024-05-07T14:56:42.716Z"
   },
   {
    "duration": 239,
    "start_time": "2024-05-07T14:56:43.040Z"
   },
   {
    "duration": 34,
    "start_time": "2024-05-07T14:56:43.281Z"
   },
   {
    "duration": 21,
    "start_time": "2024-05-07T14:56:43.316Z"
   },
   {
    "duration": 27,
    "start_time": "2024-05-07T14:56:43.339Z"
   },
   {
    "duration": 356,
    "start_time": "2024-05-07T14:56:43.368Z"
   },
   {
    "duration": 299,
    "start_time": "2024-05-07T14:56:43.726Z"
   },
   {
    "duration": 46,
    "start_time": "2024-05-07T14:56:44.026Z"
   },
   {
    "duration": 9,
    "start_time": "2024-05-07T14:56:44.074Z"
   },
   {
    "duration": 132,
    "start_time": "2024-05-07T14:56:44.085Z"
   },
   {
    "duration": 5,
    "start_time": "2024-05-07T14:56:44.218Z"
   },
   {
    "duration": 25,
    "start_time": "2024-05-07T14:56:44.225Z"
   },
   {
    "duration": 50,
    "start_time": "2024-05-07T14:57:42.433Z"
   },
   {
    "duration": 48,
    "start_time": "2024-05-07T14:58:43.589Z"
   },
   {
    "duration": 24,
    "start_time": "2024-05-07T15:00:37.865Z"
   },
   {
    "duration": 23,
    "start_time": "2024-05-07T15:00:55.232Z"
   },
   {
    "duration": 15,
    "start_time": "2024-05-07T15:02:26.269Z"
   },
   {
    "duration": 295,
    "start_time": "2024-05-07T15:09:24.324Z"
   },
   {
    "duration": 338,
    "start_time": "2024-05-07T15:10:52.410Z"
   },
   {
    "duration": 406,
    "start_time": "2024-05-07T15:11:16.967Z"
   },
   {
    "duration": 69,
    "start_time": "2024-05-07T15:11:20.588Z"
   },
   {
    "duration": 339,
    "start_time": "2024-05-07T15:11:25.910Z"
   },
   {
    "duration": 1034,
    "start_time": "2024-05-07T18:31:11.345Z"
   },
   {
    "duration": 68,
    "start_time": "2024-05-07T18:31:12.381Z"
   },
   {
    "duration": 11,
    "start_time": "2024-05-07T18:31:12.451Z"
   },
   {
    "duration": 14,
    "start_time": "2024-05-07T18:31:12.464Z"
   },
   {
    "duration": 24,
    "start_time": "2024-05-07T18:31:12.479Z"
   },
   {
    "duration": 35,
    "start_time": "2024-05-07T18:31:12.504Z"
   },
   {
    "duration": 28,
    "start_time": "2024-05-07T18:31:12.540Z"
   },
   {
    "duration": 36,
    "start_time": "2024-05-07T18:31:12.569Z"
   },
   {
    "duration": 203,
    "start_time": "2024-05-07T18:31:12.607Z"
   },
   {
    "duration": 128,
    "start_time": "2024-05-07T18:31:12.817Z"
   },
   {
    "duration": 178,
    "start_time": "2024-05-07T18:31:12.947Z"
   },
   {
    "duration": 312,
    "start_time": "2024-05-07T18:31:13.127Z"
   },
   {
    "duration": 234,
    "start_time": "2024-05-07T18:31:13.440Z"
   },
   {
    "duration": 42,
    "start_time": "2024-05-07T18:31:13.676Z"
   },
   {
    "duration": 19,
    "start_time": "2024-05-07T18:31:13.719Z"
   },
   {
    "duration": 18,
    "start_time": "2024-05-07T18:31:13.739Z"
   },
   {
    "duration": 391,
    "start_time": "2024-05-07T18:31:13.758Z"
   },
   {
    "duration": 322,
    "start_time": "2024-05-07T18:31:14.150Z"
   },
   {
    "duration": 54,
    "start_time": "2024-05-07T18:31:14.474Z"
   },
   {
    "duration": 8,
    "start_time": "2024-05-07T18:31:14.530Z"
   },
   {
    "duration": 126,
    "start_time": "2024-05-07T18:31:14.539Z"
   },
   {
    "duration": 11,
    "start_time": "2024-05-07T18:31:14.667Z"
   },
   {
    "duration": 19,
    "start_time": "2024-05-07T18:31:14.680Z"
   },
   {
    "duration": 16,
    "start_time": "2024-05-07T18:33:32.744Z"
   },
   {
    "duration": 1066,
    "start_time": "2024-05-07T18:38:34.811Z"
   },
   {
    "duration": 67,
    "start_time": "2024-05-07T18:38:35.879Z"
   },
   {
    "duration": 10,
    "start_time": "2024-05-07T18:38:35.948Z"
   },
   {
    "duration": 25,
    "start_time": "2024-05-07T18:38:35.960Z"
   },
   {
    "duration": 12,
    "start_time": "2024-05-07T18:38:35.987Z"
   },
   {
    "duration": 20,
    "start_time": "2024-05-07T18:38:36.001Z"
   },
   {
    "duration": 49,
    "start_time": "2024-05-07T18:38:36.022Z"
   },
   {
    "duration": 28,
    "start_time": "2024-05-07T18:38:36.072Z"
   },
   {
    "duration": 202,
    "start_time": "2024-05-07T18:38:36.102Z"
   },
   {
    "duration": 133,
    "start_time": "2024-05-07T18:38:36.305Z"
   },
   {
    "duration": 168,
    "start_time": "2024-05-07T18:38:36.440Z"
   },
   {
    "duration": 332,
    "start_time": "2024-05-07T18:38:36.609Z"
   },
   {
    "duration": 214,
    "start_time": "2024-05-07T18:38:36.943Z"
   },
   {
    "duration": 25,
    "start_time": "2024-05-07T18:38:37.159Z"
   },
   {
    "duration": 33,
    "start_time": "2024-05-07T18:38:37.186Z"
   },
   {
    "duration": 17,
    "start_time": "2024-05-07T18:38:37.221Z"
   },
   {
    "duration": 379,
    "start_time": "2024-05-07T18:38:37.239Z"
   },
   {
    "duration": 337,
    "start_time": "2024-05-07T18:38:37.619Z"
   },
   {
    "duration": 47,
    "start_time": "2024-05-07T18:38:37.957Z"
   },
   {
    "duration": 131,
    "start_time": "2024-05-07T18:38:38.006Z"
   },
   {
    "duration": 16,
    "start_time": "2024-05-07T18:38:38.139Z"
   },
   {
    "duration": 25,
    "start_time": "2024-05-07T18:38:38.156Z"
   },
   {
    "duration": 1012,
    "start_time": "2024-05-07T18:38:51.350Z"
   },
   {
    "duration": 67,
    "start_time": "2024-05-07T18:38:52.364Z"
   },
   {
    "duration": 11,
    "start_time": "2024-05-07T18:38:52.433Z"
   },
   {
    "duration": 11,
    "start_time": "2024-05-07T18:38:52.446Z"
   },
   {
    "duration": 12,
    "start_time": "2024-05-07T18:38:52.459Z"
   },
   {
    "duration": 12,
    "start_time": "2024-05-07T18:38:52.473Z"
   },
   {
    "duration": 40,
    "start_time": "2024-05-07T18:38:52.486Z"
   },
   {
    "duration": 42,
    "start_time": "2024-05-07T18:38:52.528Z"
   },
   {
    "duration": 201,
    "start_time": "2024-05-07T18:38:52.572Z"
   },
   {
    "duration": 150,
    "start_time": "2024-05-07T18:38:52.776Z"
   },
   {
    "duration": 170,
    "start_time": "2024-05-07T18:38:52.928Z"
   },
   {
    "duration": 314,
    "start_time": "2024-05-07T18:38:53.100Z"
   },
   {
    "duration": 213,
    "start_time": "2024-05-07T18:38:53.418Z"
   },
   {
    "duration": 24,
    "start_time": "2024-05-07T18:38:53.633Z"
   },
   {
    "duration": 18,
    "start_time": "2024-05-07T18:38:53.659Z"
   },
   {
    "duration": 41,
    "start_time": "2024-05-07T18:38:53.679Z"
   },
   {
    "duration": 372,
    "start_time": "2024-05-07T18:38:53.722Z"
   },
   {
    "duration": 361,
    "start_time": "2024-05-07T18:38:54.095Z"
   },
   {
    "duration": 61,
    "start_time": "2024-05-07T18:38:54.457Z"
   },
   {
    "duration": 115,
    "start_time": "2024-05-07T18:38:54.520Z"
   },
   {
    "duration": 15,
    "start_time": "2024-05-07T18:38:54.638Z"
   },
   {
    "duration": 21,
    "start_time": "2024-05-07T18:38:54.654Z"
   },
   {
    "duration": 49,
    "start_time": "2024-05-07T19:06:26.445Z"
   },
   {
    "duration": 1269,
    "start_time": "2024-05-07T19:06:32.717Z"
   },
   {
    "duration": 204,
    "start_time": "2024-05-07T19:06:33.988Z"
   },
   {
    "duration": 15,
    "start_time": "2024-05-07T19:06:34.193Z"
   },
   {
    "duration": 11,
    "start_time": "2024-05-07T19:06:34.210Z"
   },
   {
    "duration": 9,
    "start_time": "2024-05-07T19:06:34.223Z"
   },
   {
    "duration": 9,
    "start_time": "2024-05-07T19:06:34.234Z"
   },
   {
    "duration": 19,
    "start_time": "2024-05-07T19:06:34.244Z"
   },
   {
    "duration": 13,
    "start_time": "2024-05-07T19:06:34.264Z"
   },
   {
    "duration": 226,
    "start_time": "2024-05-07T19:06:34.278Z"
   },
   {
    "duration": 141,
    "start_time": "2024-05-07T19:06:34.506Z"
   },
   {
    "duration": 195,
    "start_time": "2024-05-07T19:06:34.649Z"
   },
   {
    "duration": 322,
    "start_time": "2024-05-07T19:06:34.846Z"
   },
   {
    "duration": 224,
    "start_time": "2024-05-07T19:06:35.170Z"
   },
   {
    "duration": 36,
    "start_time": "2024-05-07T19:06:35.397Z"
   },
   {
    "duration": 21,
    "start_time": "2024-05-07T19:06:35.434Z"
   },
   {
    "duration": 19,
    "start_time": "2024-05-07T19:06:35.456Z"
   },
   {
    "duration": 422,
    "start_time": "2024-05-07T19:06:35.476Z"
   },
   {
    "duration": 346,
    "start_time": "2024-05-07T19:06:35.900Z"
   },
   {
    "duration": 51,
    "start_time": "2024-05-07T19:06:36.247Z"
   },
   {
    "duration": 126,
    "start_time": "2024-05-07T19:06:36.299Z"
   },
   {
    "duration": 15,
    "start_time": "2024-05-07T19:06:36.427Z"
   },
   {
    "duration": 31,
    "start_time": "2024-05-07T19:06:36.443Z"
   },
   {
    "duration": 5,
    "start_time": "2024-05-07T19:09:58.578Z"
   },
   {
    "duration": 49,
    "start_time": "2024-05-07T19:10:53.984Z"
   },
   {
    "duration": 46,
    "start_time": "2024-05-07T19:11:10.446Z"
   },
   {
    "duration": 47,
    "start_time": "2024-05-07T19:11:15.107Z"
   },
   {
    "duration": 1069,
    "start_time": "2024-05-07T19:11:21.483Z"
   },
   {
    "duration": 67,
    "start_time": "2024-05-07T19:11:22.554Z"
   },
   {
    "duration": 12,
    "start_time": "2024-05-07T19:11:22.622Z"
   },
   {
    "duration": 8,
    "start_time": "2024-05-07T19:11:22.636Z"
   },
   {
    "duration": 6,
    "start_time": "2024-05-07T19:11:22.645Z"
   },
   {
    "duration": 9,
    "start_time": "2024-05-07T19:11:22.652Z"
   },
   {
    "duration": 18,
    "start_time": "2024-05-07T19:11:22.662Z"
   },
   {
    "duration": 36,
    "start_time": "2024-05-07T19:11:22.682Z"
   },
   {
    "duration": 199,
    "start_time": "2024-05-07T19:11:22.719Z"
   },
   {
    "duration": 121,
    "start_time": "2024-05-07T19:11:22.921Z"
   },
   {
    "duration": 167,
    "start_time": "2024-05-07T19:11:23.043Z"
   },
   {
    "duration": 301,
    "start_time": "2024-05-07T19:11:23.212Z"
   },
   {
    "duration": 265,
    "start_time": "2024-05-07T19:11:23.517Z"
   },
   {
    "duration": 47,
    "start_time": "2024-05-07T19:11:23.784Z"
   },
   {
    "duration": 20,
    "start_time": "2024-05-07T19:11:23.833Z"
   },
   {
    "duration": 19,
    "start_time": "2024-05-07T19:11:23.855Z"
   },
   {
    "duration": 381,
    "start_time": "2024-05-07T19:11:23.876Z"
   },
   {
    "duration": 322,
    "start_time": "2024-05-07T19:11:24.259Z"
   },
   {
    "duration": 55,
    "start_time": "2024-05-07T19:11:24.583Z"
   },
   {
    "duration": 115,
    "start_time": "2024-05-07T19:11:24.640Z"
   },
   {
    "duration": 15,
    "start_time": "2024-05-07T19:11:24.757Z"
   },
   {
    "duration": 23,
    "start_time": "2024-05-07T19:11:24.774Z"
   },
   {
    "duration": 1096,
    "start_time": "2024-05-07T20:13:57.408Z"
   },
   {
    "duration": 71,
    "start_time": "2024-05-07T20:13:58.505Z"
   },
   {
    "duration": 12,
    "start_time": "2024-05-07T20:13:58.577Z"
   },
   {
    "duration": 9,
    "start_time": "2024-05-07T20:13:58.590Z"
   },
   {
    "duration": 7,
    "start_time": "2024-05-07T20:13:58.601Z"
   },
   {
    "duration": 11,
    "start_time": "2024-05-07T20:13:58.610Z"
   },
   {
    "duration": 21,
    "start_time": "2024-05-07T20:13:58.623Z"
   },
   {
    "duration": 46,
    "start_time": "2024-05-07T20:13:58.645Z"
   },
   {
    "duration": 218,
    "start_time": "2024-05-07T20:13:58.693Z"
   },
   {
    "duration": 148,
    "start_time": "2024-05-07T20:13:58.913Z"
   },
   {
    "duration": 191,
    "start_time": "2024-05-07T20:13:59.063Z"
   },
   {
    "duration": 361,
    "start_time": "2024-05-07T20:13:59.256Z"
   },
   {
    "duration": 261,
    "start_time": "2024-05-07T20:13:59.619Z"
   },
   {
    "duration": 28,
    "start_time": "2024-05-07T20:13:59.884Z"
   },
   {
    "duration": 22,
    "start_time": "2024-05-07T20:13:59.914Z"
   },
   {
    "duration": 47,
    "start_time": "2024-05-07T20:13:59.938Z"
   },
   {
    "duration": 430,
    "start_time": "2024-05-07T20:13:59.987Z"
   },
   {
    "duration": 360,
    "start_time": "2024-05-07T20:14:00.418Z"
   },
   {
    "duration": 53,
    "start_time": "2024-05-07T20:14:00.782Z"
   },
   {
    "duration": 143,
    "start_time": "2024-05-07T20:14:00.837Z"
   },
   {
    "duration": 16,
    "start_time": "2024-05-07T20:14:00.983Z"
   },
   {
    "duration": 104,
    "start_time": "2024-05-07T20:14:01.001Z"
   },
   {
    "duration": 1131,
    "start_time": "2024-05-07T20:15:10.020Z"
   },
   {
    "duration": 68,
    "start_time": "2024-05-07T20:15:11.152Z"
   },
   {
    "duration": 13,
    "start_time": "2024-05-07T20:15:11.221Z"
   },
   {
    "duration": 17,
    "start_time": "2024-05-07T20:15:11.236Z"
   },
   {
    "duration": 10,
    "start_time": "2024-05-07T20:15:11.254Z"
   },
   {
    "duration": 13,
    "start_time": "2024-05-07T20:15:11.265Z"
   },
   {
    "duration": 21,
    "start_time": "2024-05-07T20:15:11.280Z"
   },
   {
    "duration": 14,
    "start_time": "2024-05-07T20:15:11.302Z"
   },
   {
    "duration": 250,
    "start_time": "2024-05-07T20:15:11.318Z"
   },
   {
    "duration": 150,
    "start_time": "2024-05-07T20:15:11.571Z"
   },
   {
    "duration": 201,
    "start_time": "2024-05-07T20:15:11.722Z"
   },
   {
    "duration": 359,
    "start_time": "2024-05-07T20:15:11.925Z"
   },
   {
    "duration": 295,
    "start_time": "2024-05-07T20:15:12.286Z"
   },
   {
    "duration": 31,
    "start_time": "2024-05-07T20:15:12.583Z"
   },
   {
    "duration": 23,
    "start_time": "2024-05-07T20:15:12.616Z"
   },
   {
    "duration": 43,
    "start_time": "2024-05-07T20:15:12.641Z"
   },
   {
    "duration": 441,
    "start_time": "2024-05-07T20:15:12.686Z"
   },
   {
    "duration": 378,
    "start_time": "2024-05-07T20:15:13.129Z"
   },
   {
    "duration": 54,
    "start_time": "2024-05-07T20:15:13.508Z"
   },
   {
    "duration": 140,
    "start_time": "2024-05-07T20:15:13.565Z"
   },
   {
    "duration": 18,
    "start_time": "2024-05-07T20:15:13.707Z"
   },
   {
    "duration": 26,
    "start_time": "2024-05-07T20:15:13.727Z"
   }
  ],
  "kernelspec": {
   "display_name": "Python 3 (ipykernel)",
   "language": "python",
   "name": "python3"
  },
  "language_info": {
   "codemirror_mode": {
    "name": "ipython",
    "version": 3
   },
   "file_extension": ".py",
   "mimetype": "text/x-python",
   "name": "python",
   "nbconvert_exporter": "python",
   "pygments_lexer": "ipython3",
   "version": "3.12.4"
  },
  "toc": {
   "base_numbering": 1,
   "nav_menu": {},
   "number_sections": true,
   "sideBar": true,
   "skip_h1_title": true,
   "title_cell": "Table of Contents",
   "title_sidebar": "Contents",
   "toc_cell": false,
   "toc_position": {},
   "toc_section_display": true,
   "toc_window_display": false
  }
 },
 "nbformat": 4,
 "nbformat_minor": 5
}
